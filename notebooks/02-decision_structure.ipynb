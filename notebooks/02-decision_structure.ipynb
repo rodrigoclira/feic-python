{
 "cells": [
  {
   "cell_type": "markdown",
   "metadata": {
    "colab_type": "text",
    "id": "ZhjcTfQA7AwF"
   },
   "source": [
    "**Objetivo do notebook:**\n",
    "\n",
    "* Apresentar o conceito de estrutura decisão em Python\n",
    "\n",
    "# Estrutura de Decisão\n",
    "\n",
    "\n",
    "Nem sempre todas as linhas dos programas serão executadas. Muitas vezes será mais interessante decidir que partes do programa devem ser executadas com base em condições.\n",
    " \n",
    " Como pode ver no fluxograma abaixo, ações podem ser tomada de acordo com condições que possam aparecer ao longo da execução do algoritmo. Esse fluxo de execução só pode ser desvidado caso seja utilizado estrutura de decisões. \n",
    "\n",
    " ![Fluxograma de Estrutura de Decisão](https://fluxograma.net/wp-content/uploads/2015/12/exemplo-de-fluxograma.jpg)\n",
    "\n",
    "\n",
    "## IF\n",
    "\n",
    "A base dessas decisões serão as expressões, apresentadas abaixo em negrito, que aprendemos nas aulas anteriores. \n",
    "\n",
    "se **idade >= 18** então pode comprar cerveja\n",
    "\n",
    "**idade >= 18 e possuiCarteiraMotorista** então pode dirigir\n",
    "\n",
    "**saldo >= 0** então pode sacar dinheiro. \n",
    "\n",
    "O formato da estrutura condicional em python segue \n",
    "\n",
    "\n",
    "\n",
    "```\n",
    "if condição:\n",
    "   bloco de código para ser executado\n",
    "```\n",
    "\n",
    "Se a condição for verdadeira então o bloco de código abaixo do *if* será executado. \n",
    "\n",
    "**Importante** é necessário realizar o recuo (indentação) para caracterizar um bloco de código em Python. De forma geral, sempre após os **:** (dois pontos) espera-se o recuo na linha seguinte para criação de um bloco de código. Para encerrar um bloco de código é necessário retomar ao nível de indentação anterior, ou seja,  a indenteação utilizada antes de abrir o novo bloco de código.\n",
    "\n",
    "\n",
    "```\n",
    "identação inicial\n",
    "if condição:\n",
    "   nova identação para caracterizar um bloco\n",
    "   nova identação para caracterizar um bloco\n",
    "indentição inicial\n",
    "```\n",
    "\n",
    "Na última linha do pseudocódigo acima é possível visualizar que o nível de identação voltou ao nível anterior, logo o bloco de código do IF foi finalizado. \n",
    "\n",
    "\n",
    "Vamos analisar o código abaixo: "
   ]
  },
  {
   "cell_type": "code",
   "execution_count": 0,
   "metadata": {
    "colab": {},
    "colab_type": "code",
    "id": "36Q_Ecir64w_"
   },
   "outputs": [],
   "source": [
    "num1 = int(input(\"Primeiro número: \"))\n",
    "num2 = int(input(\"Segundo número: \"))\n",
    "\n",
    "if num1 > num2: \n",
    "  print (\"O primeiro número é o maior!\")\n",
    "\n",
    "if num2 > num1: \n",
    "  print (\"O segundo número é o maior!\")"
   ]
  },
  {
   "cell_type": "markdown",
   "metadata": {},
   "source": [
    "<div class=\"alert alert-block alert-info\">\n",
    "<b>INFO:</b> <a href=https://docs.python.org/pt-br/3/library/functions.html#input>input</a> é uma função built-in python para entrada de dados através da linha de comando.\n",
    "</div>"
   ]
  },
  {
   "cell_type": "markdown",
   "metadata": {
    "colab_type": "text",
    "id": "2aN-BEYkIWRL"
   },
   "source": [
    "(**Exercício 1**) Escreva um programa que pergunte a velocidade do carro de um usuário. Caso ultrapasse 80 km/h, exiba o valor da multa, cobrando R$ 5 por km acima de 80 km/h. Utilize o bloco abaixo para testar o seu programa.\n"
   ]
  },
  {
   "cell_type": "code",
   "execution_count": 0,
   "metadata": {
    "colab": {},
    "colab_type": "code",
    "id": "R9MjjV79If11"
   },
   "outputs": [],
   "source": []
  },
  {
   "cell_type": "markdown",
   "metadata": {
    "colab_type": "text",
    "id": "-9kaQe7fIo3S"
   },
   "source": [
    "## ELSE\n",
    "\n",
    "Existem condições que o bloco deve executar no caso contrário a condição apresentada pelo if. Quando queremos executar um bloco no caso contrário da condição do if, nós usamos o **else**. \n",
    "\n",
    "Por exemplo: se o carro tem menos de três anos então é novo, caso contrário ele é velho. Veja o exemplo abaixo:\n"
   ]
  },
  {
   "cell_type": "code",
   "execution_count": 0,
   "metadata": {
    "colab": {},
    "colab_type": "code",
    "id": "y4bub3OyI5r_"
   },
   "outputs": [],
   "source": [
    "idade = int(input(\"Digite a idade do seu carro: \"))\n",
    "\n",
    "if idade <= 3:\n",
    "  print (\"Seu carro é novo\")\n",
    "else:\n",
    "  print (\"Seu carro é velho\")"
   ]
  },
  {
   "cell_type": "markdown",
   "metadata": {
    "colab_type": "text",
    "id": "Hncy0zpPJxJy"
   },
   "source": [
    "(**Exercício 2**) Escreva um programa que pergunte a distância que um passageiro deseja percorrer em km. Calcule o preço da passagem, cobrando R\\$ 0,50 por km para viagens de até 200 km, e R\\$ 0,45 para viagens mais longas. Utilize o bloco abaixo para testar o seu programa.\n"
   ]
  },
  {
   "cell_type": "code",
   "execution_count": 0,
   "metadata": {
    "colab": {},
    "colab_type": "code",
    "id": "mVtiu1y0KUuK"
   },
   "outputs": [],
   "source": []
  },
  {
   "cell_type": "markdown",
   "metadata": {
    "colab_type": "text",
    "id": "uV_HTOcAKh8O"
   },
   "source": [
    "## Estruturas Aninhadas\n",
    "\n",
    "Nem sempre os programas são tão simples. Muitas vezes precisamos usar vários ifs para obter o comportamento desejado. Podemos precisar utilizar uma estrutura de decisão dentro da outra, isso significaria aninhar as estruturas.\n",
    "\n",
    "Por exemplo,vamos ver uma solução para o problema asseguir com estrturas aninhadas.\n",
    "\n",
    "Os planos da empresa Tchau são bem interessantes e oferecem preços diferenciados de acordo com a quantidade de minutos usados no mês. Abaixo de 200 minutos, a empresa cobra R\\$ 0,20 por minuto. Entre 200 e 400 minutos, o preço é de R\\$ 0,18. Acima de 400 minutos, o preço por minuto é de R\\$ 0,15. \n"
   ]
  },
  {
   "cell_type": "code",
   "execution_count": 0,
   "metadata": {
    "colab": {},
    "colab_type": "code",
    "id": "Hye4XlNdLWWc"
   },
   "outputs": [],
   "source": [
    "minutos = int(input(\"Quantos minutos você utilizou este mês: \"))\n",
    "\n",
    "if minutos < 200:\n",
    "  preco = 0.2\n",
    "else:\n",
    "  if minutos < 400:\n",
    "    preco = 0.18\n",
    "  else:\n",
    "    preco = 0.15\n",
    "\n",
    "print (f\"Você vai pagar este mês R${preco*minutos:6.2f}\")"
   ]
  },
  {
   "cell_type": "markdown",
   "metadata": {
    "colab_type": "text",
    "id": "G5wtobLSL9o8"
   },
   "source": [
    "(**Exercício 3**) Faça um programa que leia a categoria de um produto e determine o preço pela tabela abaixo. Utilize o bloco abaixo para testar o seu programa.\n",
    "\n",
    "![Categorias](https://i.ibb.co/3FJ2kmV/categorias.png) "
   ]
  },
  {
   "cell_type": "code",
   "execution_count": 0,
   "metadata": {
    "colab": {},
    "colab_type": "code",
    "id": "OlIMj2BUMFgS"
   },
   "outputs": [],
   "source": []
  },
  {
   "cell_type": "markdown",
   "metadata": {
    "colab_type": "text",
    "id": "Xjv6iWzQMS90"
   },
   "source": [
    "Python apresenta uma solução muito interessante ao problema de múltiplos ifs aninhados. A cláusula **elif** substitui o **else if**, mas sem criar um outro nível de estrutura, evitando problema de deslocamentos desnecessários a direita. \n",
    "\n",
    "Por exemplo, o problema anterior poderia ser resolvido sem aninhamento usando a estrutura elif. \n"
   ]
  },
  {
   "cell_type": "code",
   "execution_count": 0,
   "metadata": {
    "colab": {},
    "colab_type": "code",
    "id": "p1p6DyMIMcmo"
   },
   "outputs": [],
   "source": [
    "categoria = int(input(\"Digite a categoria do produto: \"))\n",
    "\n",
    "if categoria == 1:\n",
    "  preco = 10.0\n",
    "elif categoria == 2:\n",
    "  preco = 18.0\n",
    "elif categoria == 3:\n",
    "  preco = 23.0\n",
    "elif categoria == 4:\n",
    "  preco = 26.0\n",
    "elif categora == 5:\n",
    "  preco = 31.0\n",
    "else:\n",
    "  print (\"Categoria inválida, digite um valor entre 1 e 5!\")\n",
    "  preco = 0\n",
    "\n",
    "print (f\"O preço do produto é R$ {preco:5.2f}\")"
   ]
  },
  {
   "cell_type": "markdown",
   "metadata": {
    "colab_type": "text",
    "id": "nwzifNZPOKwt"
   },
   "source": [
    "(**Exercício 4**) Escreva um programa que leia dois números e que pergunte qual operação você deseja realizar. Você pode calcular soma (+), subtração (-), multiplicação (*) e divisão (/). Exiba o resultado da operação solicitada. Utilize o bloco abaixo para testar o seu programa.\n"
   ]
  },
  {
   "cell_type": "code",
   "execution_count": 0,
   "metadata": {
    "colab": {},
    "colab_type": "code",
    "id": "WHbc8xWrPamn"
   },
   "outputs": [],
   "source": []
  },
  {
   "cell_type": "markdown",
   "metadata": {
    "colab_type": "text",
    "id": "ZpwqeC_RPbDO"
   },
   "source": [
    "Ler sobre operador ternário ou expressão condicional em Python. Discutir na próxima aula. \n",
    "\n",
    "`<expressão1> if condição else expressão2`\n"
   ]
  },
  {
   "cell_type": "markdown",
   "metadata": {
    "colab_type": "text",
    "id": "BITlCNheK0IQ"
   },
   "source": [
    "# Respostas\n",
    "\n",
    "Nesta seção são apresentadas as respostas das questões apresentadas. \n",
    "\n",
    "Exercício 1"
   ]
  },
  {
   "cell_type": "code",
   "execution_count": 0,
   "metadata": {
    "colab": {},
    "colab_type": "code",
    "id": "-IHsm1SYCyXH"
   },
   "outputs": [],
   "source": [
    "velocidade = float(input(\"Informe a velocidade: \"))\n",
    "\n",
    "if velocidade > 80:\n",
    "  multa = (velocidade - 80) * 5\n",
    "  print (f\"O valor da multa a ser pago é R$ {multa:.2f}\")"
   ]
  },
  {
   "cell_type": "markdown",
   "metadata": {
    "colab_type": "text",
    "id": "9oakp9pbDKhb"
   },
   "source": [
    "Exercício 2"
   ]
  },
  {
   "cell_type": "code",
   "execution_count": 0,
   "metadata": {
    "colab": {},
    "colab_type": "code",
    "id": "-fUPCs4vDNLX"
   },
   "outputs": [],
   "source": [
    "km = float(input(\"Informe quilometragem da corrida: \"))\n",
    "if km < 200:\n",
    "  preco = km * 0.5\n",
    "else:\n",
    "  preco = km * 0.45\n",
    "\n",
    "print (f\"O valor da corrida será R$ {preco:.2f})"
   ]
  },
  {
   "cell_type": "markdown",
   "metadata": {
    "colab_type": "text",
    "id": "-HWoiiM6DxMi"
   },
   "source": [
    "Exercício 3"
   ]
  },
  {
   "cell_type": "code",
   "execution_count": 1,
   "metadata": {
    "colab": {},
    "colab_type": "code",
    "id": "eU4c6Yg8D0ym"
   },
   "outputs": [
    {
     "name": "stdout",
     "output_type": "stream",
     "text": [
      "Informe o tipo do produto: 10\n",
      "Tipo inexistente!! Informe um valor entre 1 e 5.\n",
      "O valor do pedido é 0.00\n"
     ]
    }
   ],
   "source": [
    "tipo = int(input(\"Informe o tipo do produto: \"))\n",
    "\n",
    "if tipo == 1:\n",
    "  valor = 10.0\n",
    "else:\n",
    "  if tipo == 2:\n",
    "    valor = 18.0\n",
    "  else:\n",
    "    if tipo == 3:\n",
    "      valor = 23.0\n",
    "    else:\n",
    "      if tipo == 4:\n",
    "        valor = 26.0\n",
    "      else:\n",
    "        if tipo == 5:\n",
    "          valor = 31.0\n",
    "        else:\n",
    "          valor = 0\n",
    "          print (\"Tipo inexistente!! Informe um valor entre 1 e 5.\")\n",
    "\n",
    "print (f\"O valor do pedido é {valor:.2f}\")"
   ]
  },
  {
   "cell_type": "markdown",
   "metadata": {
    "colab_type": "text",
    "id": "7HB_MxN_X3S_"
   },
   "source": [
    "Exercício 4"
   ]
  },
  {
   "cell_type": "code",
   "execution_count": 0,
   "metadata": {
    "colab": {},
    "colab_type": "code",
    "id": "sDoZNOKCX6Mb"
   },
   "outputs": [],
   "source": [
    "num1 = float(input(\"Informe o primeiro operando: \"))\n",
    "num2 = float(input(\"Informe o segundo operando: \"))\n",
    "operacao = input(\"Informe a operação. As opções são: + , - , / , *\")\n",
    "\n",
    "if operacao == \"+\":\n",
    "  resultado = num1 + num2\n",
    "  print (f\"O resultado da operação é {resultado}\")\n",
    "elif operacao == \"-\":\n",
    "  resultado = num1 - num2\n",
    "  print (f\"O resultado da operação é {resultado}\")\n",
    "elif operacao == \"/\":\n",
    "  if num2 != 0:\n",
    "    resultado = num1 + num2\n",
    "    print (f\"O resultado da operação é {resultado}\")\n",
    "  else:\n",
    "    print (\"Operação não suportada. Divisor igual a zero.\")\n",
    "elif operacao == \"*\":\n",
    "    resultado = num1 * num2\n",
    "    print (f\"O resultado da operação é {resultado}\")\n",
    "else:\n",
    "  print (\"Opção inválida\")"
   ]
  }
 ],
 "metadata": {
  "colab": {
   "authorship_tag": "ABX9TyMgOXW2Q7wt2Ciezupxc+C9",
   "collapsed_sections": [],
   "name": "04. Estrutura de Decisão",
   "provenance": [],
   "toc_visible": true
  },
  "kernelspec": {
   "display_name": "Python 3 (ipykernel)",
   "language": "python",
   "name": "python3"
  },
  "language_info": {
   "codemirror_mode": {
    "name": "ipython",
    "version": 3
   },
   "file_extension": ".py",
   "mimetype": "text/x-python",
   "name": "python",
   "nbconvert_exporter": "python",
   "pygments_lexer": "ipython3",
   "version": "3.10.6"
  }
 },
 "nbformat": 4,
 "nbformat_minor": 1
}
