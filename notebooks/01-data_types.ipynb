{
 "cells": [
  {
   "cell_type": "markdown",
   "metadata": {
    "colab_type": "text",
    "id": "lIlNXu-iaSuY"
   },
   "source": [
    "**Objetivo do notebook:**\n",
    "\n",
    "\n",
    "*   Apresentar o conceito de variáveis e tipos de dados\n",
    "*   Apresentar a função de entrada de dados em Python\n",
    "\n",
    "# Variáveis e Tipos de Dados\n",
    "\n",
    "\n",
    "\n",
    "## Variáveis\n",
    "\n",
    "Em programação variáveis são usadas para armazenar valores e para dar nome a uma área de memória do computador onde armazenamos dados. \n",
    "Podemos imaginar a memória  do computador como uma grande estante, em que cada  compartimento tem um nome.\n",
    "\n",
    "\n",
    "As variáveis nos permite guardar valores que serão manipulados no nosso programa. Fazendo uma analogia, podemos considerar que uma variável é uma gaveta de um gaveteiro (imagem abaixo). Nós podemos até nomear a gaveta para facilitar o acesso e manipulação. \n",
    "\n",
    "![Gaveteiro de peças](https://images.madeiramadeira.com.br/product/images/42180667-prateleira-gaveteiro-vonder-parafuso-pecas-chaves-25-gavetas6127025311-114-1-600x600.jpg)\n",
    "\n",
    "\n",
    "De forma geral, uma variável é uma posição da memória RAM no qual nós damos um nome e muitas vezes indicamos o tipo do conteúdo que será guardado (inteiro, real, cadeia de caractere...)*. \n",
    "\n",
    "\\* Python não precisa indicar o tipo do conteúdo da variável, apenas nomeá-la seguindo as regras da linguagem. A linguagem Python é considerada uma linguagem de tipagem dinâmica, isso significa que o tipo da variável é variável e depende do conteúdo que está sendo armazenado. Em uma parte do programa o tipo pode ser um valor inteiro e na linha seguinte, um valor de ponto flutuante (Leia [Python utiliza tipagem dinâmica e forte](http://blog.abraseucodigo.com.br/python-uma-linguagem-de-tipagem-dinamica-e-forte.html). \n",
    "\n",
    "Para armazenar um valor numa variável, nós usamos o símbolo de igualdade (=) entre o nome do compartimento (variável) e o valor que queremos armazenar.\n",
    "\n",
    "Como no exemplo abaixo: "
   ]
  },
  {
   "cell_type": "code",
   "execution_count": null,
   "metadata": {
    "colab": {},
    "colab_type": "code",
    "id": "_DiZzbXKcsft"
   },
   "outputs": [],
   "source": [
    "numero = 120"
   ]
  },
  {
   "cell_type": "markdown",
   "metadata": {
    "colab_type": "text",
    "id": "6Z2fVwjzehKw"
   },
   "source": [
    "Na bloco de código acima o valor 120 é **atribuído** a variável de nome \"numero\". A operação de colocar um conteúdo (valor) numa variável é chamado de **atribuição**. Em Python, uma varíavel é criada através da operação de atribuição. Caso a variável já exista e sofra uma nova atribuição, o seu conteúdo  será modificado para o novo valor atribuído a ela. \n",
    "\n",
    "Em Python, nomes de variáveis devem iniciar obrigatoriamente com uma letra ou *underline* (_) mas também podem conter números. \n",
    "\n",
    "![Descrição da formulação do nome de uma variável](https://i.ibb.co/Kh8xkwD/variavel.png)\n",
    "\n",
    "Dessa forma indique se os nomes se variáveis abaixo são válidos:\n",
    "\n",
    "\n",
    "a1\n",
    "\n",
    "velocidade\n",
    "\n",
    "velocidade90\n",
    "\n",
    "salário_médio\n",
    "\n",
    "salario_medio\n",
    "\n",
    "salario medio\n",
    "\n",
    "_b\n",
    "\n",
    "1a\n",
    "\n",
    "__2\n",
    "\n",
    "\n",
    "Teste a sua resposta executando cada uma dos blocos abaixo: Caso não seja apresentado nenhum erro de *invalid syntax*, o nome é válido. "
   ]
  },
  {
   "cell_type": "code",
   "execution_count": null,
   "metadata": {
    "colab": {},
    "colab_type": "code",
    "id": "0S9TD0crh5Mm"
   },
   "outputs": [],
   "source": [
    "a1 = 2"
   ]
  },
  {
   "cell_type": "code",
   "execution_count": null,
   "metadata": {
    "colab": {},
    "colab_type": "code",
    "id": "6IXQ3VGCiDWe"
   },
   "outputs": [],
   "source": [
    "velocidade = 120.0"
   ]
  },
  {
   "cell_type": "code",
   "execution_count": null,
   "metadata": {
    "colab": {},
    "colab_type": "code",
    "id": "QQb572YLiHM8"
   },
   "outputs": [],
   "source": [
    "salário_médio = 1025.00"
   ]
  },
  {
   "cell_type": "code",
   "execution_count": null,
   "metadata": {
    "colab": {},
    "colab_type": "code",
    "id": "AWyCRe8SiJ3C"
   },
   "outputs": [],
   "source": [
    "salario_medio = 1025.00"
   ]
  },
  {
   "cell_type": "code",
   "execution_count": null,
   "metadata": {
    "colab": {},
    "colab_type": "code",
    "id": "JJ7v0f7qiPlv"
   },
   "outputs": [],
   "source": [
    "salario medio = 1000.00"
   ]
  },
  {
   "cell_type": "code",
   "execution_count": null,
   "metadata": {
    "colab": {},
    "colab_type": "code",
    "id": "oxg_l-NXiSaO"
   },
   "outputs": [],
   "source": [
    "_b = 3"
   ]
  },
  {
   "cell_type": "code",
   "execution_count": null,
   "metadata": {
    "colab": {},
    "colab_type": "code",
    "id": "pmT9TCNFiTnR"
   },
   "outputs": [],
   "source": [
    "1a = 40"
   ]
  },
  {
   "cell_type": "code",
   "execution_count": null,
   "metadata": {
    "colab": {},
    "colab_type": "code",
    "id": "J8VwD-kliU6d"
   },
   "outputs": [],
   "source": [
    "__2 = -23.00"
   ]
  },
  {
   "cell_type": "markdown",
   "metadata": {
    "colab_type": "text",
    "id": "ep6Q30hxiys5"
   },
   "source": [
    "O tipo da variável define a natureza dos dados que a variável armazena. Python tem vários tipos de dados, mas os mais comuns são _int_, _float_, _strings_ e _bool_. \n",
    "\n",
    "Cada linguagem define um conjunto de tipo de dados, a esses tipos são dados o nome de tipo de dados primitivos ou nativos (dados que já vem com a linguagem). Em contrapartida, existem os dados que podem ser criados pelos próprios usuários da linguagem através de composição de dados primitivos. \n",
    "\n",
    "Por exemplo, em Java um inteiro pode ser representado pelos tipos primitivos:\n",
    "\n",
    "* **byte**: é capaz de armazenar valores entre -128 até 127. \n",
    "* **short**: é capaz de armazenar valores entre – 32768 até 32767.\n",
    "* **int**: é capaz de armazenar valores entre –2147483648 até 2147483647.\n",
    "* **long**: é capaz de armazenar valores entre –9223372036854775808 até 9223372036854775807.\n",
    "\n",
    "## Tipos de dados Numéricos de Python (Int e Float)\n",
    "\n",
    "O tipo inteiro é um tipo numérico. Dizemos que uma variável é numérica quando armazena números inteiros (**int**) ou real /ponto flutuantes (**float**). \n",
    "\n",
    "Os valores denominados de ponto flutuante são representam todo o conjunto dos números que possuem a representação de casas décimas. Por exemplo: 100.2, 302.2, -0.2 ... \n",
    "É importante ficar evidente que o separador entra parte interia e a parte decimal é o ponto (**.**) e não a vírgula. Isso se dá ao fato das linguagens serem, na maioria das vezes, baseada na língua inglesa no qual o ponto é o separador. \n"
   ]
  },
  {
   "cell_type": "code",
   "execution_count": null,
   "metadata": {
    "colab": {},
    "colab_type": "code",
    "id": "xHs_8a3ZlESP"
   },
   "outputs": [],
   "source": [
    "variavel = 10.2"
   ]
  },
  {
   "cell_type": "markdown",
   "metadata": {
    "colab_type": "text",
    "id": "z7J3i0q2lGxs"
   },
   "source": [
    "Importante: os Inteiros não possuem parte decimal. Qualquer número que possua uma parte fracionário é considerado do tipo float em Python. \n",
    "\n",
    "Curiosidade: \n",
    "\n",
    "Realize a operação 3 * 0.1 em Python veja o resultado:"
   ]
  },
  {
   "cell_type": "code",
   "execution_count": null,
   "metadata": {
    "colab": {},
    "colab_type": "code",
    "id": "KA4uUGBjlbuq"
   },
   "outputs": [],
   "source": [
    "valor = 3 * 0.1\n",
    "print (valor)"
   ]
  },
  {
   "cell_type": "markdown",
   "metadata": {
    "colab_type": "text",
    "id": "jdXMe2BBl40p"
   },
   "source": [
    "No código acima é feito uma operação e o valor dela é atribuída na variável de nome 'valor'. Logo em seguida, o conteúdo da variável é impressa na tela usando a função de impressão na tela *print* de Python.\n",
    "\n",
    "Era esperado que o resultado da operação fosse 0.3 mas Python apresentou 0.30000000000000004. Esse resultado dá-se devido a forma de representação de valores de ponto flutuante nos computadores (Sugiro a leitura de para entender como é possível representar valores contínuos através de bits [Ponto Flutuante Wikipedia](https://pt.wikipedia.org/wiki/V%C3%ADrgula_flutuante) ) \n",
    "\n",
    "O erro apresentado anteriormente pode ser considerado desprezível para algumas operações e até pode ser trucado progamaticamente, mas pode gerar problemas devido a acumulações de erros semelhantes ou até em determinadas aplicações. Por exemplo: imagine um folguete que precisa das coordenadas corretas para que possa atingir o alvo, mas devido a um erro de arrendodamento acaba sendo detonado no local errado. \n",
    "\n",
    "Para casos que há uma necessidade de uma precisão maior, os tipos de dados *decimal* e *fraction* são indicados ou funções de arrendondamento."
   ]
  },
  {
   "cell_type": "code",
   "execution_count": null,
   "metadata": {
    "colab": {},
    "colab_type": "code",
    "id": "hYv-IcKZn9iZ"
   },
   "outputs": [],
   "source": [
    "valor = 3 * 0.1\n",
    "print (round(valor, 3))"
   ]
  },
  {
   "cell_type": "markdown",
   "metadata": {},
   "source": [
    "<div class=\"alert alert-block alert-info\">\n",
    "<b>INFO:</b> Python possuis várias <a href=https://docs.python.org/pt-br/3/library/functions.html>Funções built-ins </a>.</div>"
   ]
  },
  {
   "cell_type": "markdown",
   "metadata": {
    "colab_type": "text",
    "id": "BJ4_Xn0yqFuw"
   },
   "source": [
    "Um valor inteiro pode ser declarado em diversas bases: decimal, ocatal, binário, hexadecimal. \n",
    "\n",
    "Inteiro declarado na base binária:"
   ]
  },
  {
   "cell_type": "code",
   "execution_count": null,
   "metadata": {
    "colab": {},
    "colab_type": "code",
    "id": "DsqiankhqTuz"
   },
   "outputs": [],
   "source": [
    "a = 0b10\n",
    "print (a)\n",
    "print (type(a))"
   ]
  },
  {
   "cell_type": "markdown",
   "metadata": {
    "colab_type": "text",
    "id": "ayHn18rqqeGk"
   },
   "source": [
    "Inteiro declarado na base hexadecimal"
   ]
  },
  {
   "cell_type": "code",
   "execution_count": null,
   "metadata": {
    "colab": {},
    "colab_type": "code",
    "id": "V80e3K7KqhNx"
   },
   "outputs": [],
   "source": [
    "b = 0x10\n",
    "print (b)\n",
    "print (type(b))"
   ]
  },
  {
   "cell_type": "markdown",
   "metadata": {
    "colab_type": "text",
    "id": "VzNZbL0oqmQ-"
   },
   "source": [
    "Inteiro declarado na base octal"
   ]
  },
  {
   "cell_type": "code",
   "execution_count": null,
   "metadata": {
    "colab": {},
    "colab_type": "code",
    "id": "QEb8lbadqoPV"
   },
   "outputs": [],
   "source": [
    "c = 0o10\n",
    "print (c)\n",
    "print (type (c))"
   ]
  },
  {
   "cell_type": "markdown",
   "metadata": {
    "colab_type": "text",
    "id": "dQlHYrejrKgh"
   },
   "source": [
    "Em todos os exemplos acima são declarados valores do tipo inteiro, mas em diferentes bases numéricas. É importante deixar claro que apesar de ser declarado em uma base, o valor sempre é exibido na base decimal. \n",
    "\n",
    "Nos exemplos acima também é apresentada a função *type* que informa qual o tipo do conteúdo passado como parâmetro para ela.\n",
    "Entenda um pouco o funcionamento dela: "
   ]
  },
  {
   "cell_type": "code",
   "execution_count": null,
   "metadata": {
    "colab": {},
    "colab_type": "code",
    "id": "f7LLNWBYru0l"
   },
   "outputs": [],
   "source": [
    "print (type(2.0))"
   ]
  },
  {
   "cell_type": "code",
   "execution_count": null,
   "metadata": {
    "colab": {},
    "colab_type": "code",
    "id": "smth6fvYsvMB"
   },
   "outputs": [],
   "source": [
    "print (type(2))"
   ]
  },
  {
   "cell_type": "code",
   "execution_count": null,
   "metadata": {
    "colab": {},
    "colab_type": "code",
    "id": "dhI8jRKUswfV"
   },
   "outputs": [],
   "source": [
    "p = 2.0\n",
    "print (type(p))"
   ]
  },
  {
   "cell_type": "code",
   "execution_count": null,
   "metadata": {
    "colab": {},
    "colab_type": "code",
    "id": "XK7olW5IsyDB"
   },
   "outputs": [],
   "source": [
    "p = 2\n",
    "print (type(p))"
   ]
  },
  {
   "cell_type": "markdown",
   "metadata": {
    "colab_type": "text",
    "id": "uztdDQ3Hs_QM"
   },
   "source": [
    "### Operadores Aritméticos\n",
    "\n",
    "Os operadores aritiméticos nos permite realizar operações aritméticas em Python. Os operadores são: \n",
    "\n",
    "![Operadores Aritméticos de Python](https://i.ibb.co/RYPtpqy/aritmeticos.png)\n",
    "\n",
    "Teste algumas operações:\n"
   ]
  },
  {
   "cell_type": "code",
   "execution_count": null,
   "metadata": {
    "colab": {},
    "colab_type": "code",
    "id": "CCe3UcsGvTAo"
   },
   "outputs": [],
   "source": [
    "#Lembre-se, tudo que está após o # não é execultado num programa. O # é usado para\n",
    "#criarmos comentários que possam ajudar a entender o funcionamento do código. \n",
    "\n",
    "n1 = 10\n",
    "n2 = 3"
   ]
  },
  {
   "cell_type": "code",
   "execution_count": null,
   "metadata": {
    "colab": {},
    "colab_type": "code",
    "id": "2RjyqZ-5vZrz"
   },
   "outputs": [],
   "source": [
    "print (n1 + n2) #soma"
   ]
  },
  {
   "cell_type": "code",
   "execution_count": null,
   "metadata": {
    "colab": {},
    "colab_type": "code",
    "id": "sleS7mhivdxA"
   },
   "outputs": [],
   "source": [
    "print (n1 - n2) #subtração"
   ]
  },
  {
   "cell_type": "code",
   "execution_count": null,
   "metadata": {
    "colab": {},
    "colab_type": "code",
    "id": "VhdlHoIevftx"
   },
   "outputs": [],
   "source": [
    "print (n1 * n2) #multiplicação"
   ]
  },
  {
   "cell_type": "markdown",
   "metadata": {
    "colab_type": "text",
    "id": "BUwAEynbvset"
   },
   "source": [
    "Em Python existem dois tipos de operações de divisão, uma que dá um resultado fracionário (/) e a que dá o resultado inteiro da operação (/). Logo `5 / 2 == 2.5` enquanto que `5 // 2 = 2 `"
   ]
  },
  {
   "cell_type": "code",
   "execution_count": null,
   "metadata": {
    "colab": {},
    "colab_type": "code",
    "id": "pMDmQSE3viZl"
   },
   "outputs": [],
   "source": [
    "print (n1 / n2) #divisão fracionária"
   ]
  },
  {
   "cell_type": "code",
   "execution_count": null,
   "metadata": {
    "colab": {},
    "colab_type": "code",
    "id": "OAeYIWt-vkB_"
   },
   "outputs": [],
   "source": [
    "print (n1 // n2) #divisão inteira"
   ]
  },
  {
   "cell_type": "markdown",
   "metadata": {
    "colab_type": "text",
    "id": "VJDLw4Z_xBmY"
   },
   "source": [
    "O módulo é um operador que dá como o resultado o resto da divisão. Por exemplo, o resto da divisião de 5 por 2 é 1, logo o valor da operação `5 % 2 == 1` . Caso não lembre, leia um [artigo do Brasil Escola exemplicando o que é o resto da divisão.](https://brasilescola.uol.com.br/matematica/o-resto-divisao.htm)"
   ]
  },
  {
   "cell_type": "code",
   "execution_count": null,
   "metadata": {
    "colab": {},
    "colab_type": "code",
    "id": "pe10CiSPvlXM"
   },
   "outputs": [],
   "source": [
    "print (n1 % n2) #resto"
   ]
  },
  {
   "cell_type": "code",
   "execution_count": null,
   "metadata": {
    "colab": {},
    "colab_type": "code",
    "id": "Ve8YqtKnvoR_"
   },
   "outputs": [],
   "source": [
    "print (n1 ** n2) #exponeciação"
   ]
  },
  {
   "cell_type": "markdown",
   "metadata": {
    "colab_type": "text",
    "id": "Y1BAp3KbCA9_"
   },
   "source": [
    "Antes de iniciarmos a falar sobres variáveis lógicas, vamos discutir um pouco sobre precedência de operadores... \n",
    "Ao se executar uma operação que contém mais de um operador é seguido uma ordem (precedência) das operações. Por exemplo, execute a equação abaixo: \n"
   ]
  },
  {
   "cell_type": "code",
   "execution_count": null,
   "metadata": {
    "colab": {},
    "colab_type": "code",
    "id": "-OBN9PSKCMB6"
   },
   "outputs": [],
   "source": [
    "10 - 3 * 4"
   ]
  },
  {
   "cell_type": "markdown",
   "metadata": {
    "colab_type": "text",
    "id": "ivqaRTToCkko"
   },
   "source": [
    "Na operação acima, primeiro é realizado a multiplicação e em seguida a subtração. Caso você queira que a subtração seja realizada primeiro, a indicação é colocar parênteses para explicitar qual operação deve ser realizda no início da resolução da operação. Mesmo não querendo esse comportamento, é uma boa prática colocar os parênteses na operação de multiplicação"
   ]
  },
  {
   "cell_type": "code",
   "execution_count": null,
   "metadata": {
    "colab": {},
    "colab_type": "code",
    "id": "KrIMreiUDM--"
   },
   "outputs": [],
   "source": [
    "10 - (3 * 4)"
   ]
  },
  {
   "cell_type": "markdown",
   "metadata": {
    "colab_type": "text",
    "id": "ZRu1HjCDDPWX"
   },
   "source": [
    "A operação acima é diferente de:"
   ]
  },
  {
   "cell_type": "code",
   "execution_count": null,
   "metadata": {
    "colab": {},
    "colab_type": "code",
    "id": "Fds-_YwTDTA3"
   },
   "outputs": [],
   "source": [
    "(10 - 3) * 4"
   ]
  },
  {
   "cell_type": "markdown",
   "metadata": {
    "colab_type": "text",
    "id": "8ZzP62VN5-GA"
   },
   "source": [
    "## Tipo de dados Lógico\n",
    "\n",
    "Muitas vezes queremos armazenar um conteúdo simples: verdadeiro ou falso em uma variável. Nesse caso usamos o tipo lógico ou booleano, o tipo **bool** em Python.\n",
    "\n",
    "Em Python **True** representa o valor verdadeiro e **False**, falso. Esse tipo de variável só pode ser representada por um desses dois valores. \n"
   ]
  },
  {
   "cell_type": "code",
   "execution_count": null,
   "metadata": {
    "colab": {},
    "colab_type": "code",
    "id": "8X2_TnH96lRs"
   },
   "outputs": [],
   "source": [
    "resultado = True\n",
    "print (resultado)"
   ]
  },
  {
   "cell_type": "code",
   "execution_count": null,
   "metadata": {
    "colab": {},
    "colab_type": "code",
    "id": "E2nsJYCp6oSn"
   },
   "outputs": [],
   "source": [
    "resultado = False\n",
    "print (resultado)"
   ]
  },
  {
   "cell_type": "markdown",
   "metadata": {
    "colab_type": "text",
    "id": "6dnVsyk369tR"
   },
   "source": [
    "### Operadores Relacionais\n",
    "\n",
    "Ao realizarmos comparações lógicas, utilizamos operadores relacionais. Os operadores relacionais são:\n",
    "\n",
    "![Operadores Relacionais](https://i.ibb.co/0VN5KY6/operadoresrelacionais.png)\n",
    "\n",
    "\n",
    "Alguns exemplos de utilização dos operadores relacionais:\n"
   ]
  },
  {
   "cell_type": "code",
   "execution_count": null,
   "metadata": {
    "colab": {},
    "colab_type": "code",
    "id": "8b057yfo7t9i"
   },
   "outputs": [],
   "source": [
    "#Lembre-se de executar esse trecho de código\n",
    "a = 1\n",
    "b = 5\n",
    "c = 2\n",
    "d = 1"
   ]
  },
  {
   "cell_type": "code",
   "execution_count": null,
   "metadata": {
    "colab": {},
    "colab_type": "code",
    "id": "Fnmu2QLA71Mg"
   },
   "outputs": [],
   "source": [
    "print (a == b)"
   ]
  },
  {
   "cell_type": "code",
   "execution_count": null,
   "metadata": {
    "colab": {},
    "colab_type": "code",
    "id": "JyNZMYW38Bg0"
   },
   "outputs": [],
   "source": [
    "print (b > a)"
   ]
  },
  {
   "cell_type": "code",
   "execution_count": null,
   "metadata": {
    "colab": {},
    "colab_type": "code",
    "id": "9kvL95Ra8Dfd"
   },
   "outputs": [],
   "source": [
    "print (a < b)"
   ]
  },
  {
   "cell_type": "code",
   "execution_count": null,
   "metadata": {
    "colab": {},
    "colab_type": "code",
    "id": "Qkvg_j948Hhe"
   },
   "outputs": [],
   "source": [
    "print (a == d)"
   ]
  },
  {
   "cell_type": "code",
   "execution_count": null,
   "metadata": {
    "colab": {},
    "colab_type": "code",
    "id": "IB4vgR4P8KHk"
   },
   "outputs": [],
   "source": [
    "print (b >= a)"
   ]
  },
  {
   "cell_type": "code",
   "execution_count": null,
   "metadata": {
    "colab": {},
    "colab_type": "code",
    "id": "NOZph-xk8MRo"
   },
   "outputs": [],
   "source": [
    "print (c <= b)"
   ]
  },
  {
   "cell_type": "code",
   "execution_count": null,
   "metadata": {
    "colab": {},
    "colab_type": "code",
    "id": "Fpb64-as8txo"
   },
   "outputs": [],
   "source": [
    "print (d != a)"
   ]
  },
  {
   "cell_type": "code",
   "execution_count": null,
   "metadata": {
    "colab": {},
    "colab_type": "code",
    "id": "ux0m7ejx8vLI"
   },
   "outputs": [],
   "source": [
    "print (d != b)"
   ]
  },
  {
   "cell_type": "markdown",
   "metadata": {
    "colab_type": "text",
    "id": "TIGo8Zf6865b"
   },
   "source": [
    "### Operadores Lógicos\n",
    "\n",
    "Operadores lógicos são tipos de operadores que podem ser utilizados com as variáveis lógicas. Cada operador obedece um conjunto de regras expresso pela tabela verdade desse operador. Os principais operadores lógcicos são: \n",
    "\n",
    "![Operadores Lógicos](https://i.ibb.co/x3gbjr6/operadoreslogicos.png)\n",
    "\n",
    "\n",
    "\n",
    "Uma vez que já foi apresentado todos os operadores, precisamos apresentar as suas precedências. A precedência entre os operadores segue a seguinte regra: primeiro as operações aritméticas, depois as de comparação, por fim as lógicas. Contudo, expressẽos em parênteses são realizadas primeiro.\n",
    "\n",
    "![Precedência dos operadores](https://i.ibb.co/rs4VnMR/precedencia.png)\n",
    "\n",
    "analise a equação abaixo e tente indicar o resultado sem executá-la. Depois veja se o resultado corresponde ao indicado.\n"
   ]
  },
  {
   "cell_type": "code",
   "execution_count": null,
   "metadata": {
    "colab": {},
    "colab_type": "code",
    "id": "FYctj2A8_Hn8"
   },
   "outputs": [],
   "source": [
    "3 + 4 ** (2**1)"
   ]
  },
  {
   "cell_type": "markdown",
   "metadata": {
    "colab_type": "text",
    "id": "Js0NSztVCb9m"
   },
   "source": [
    "#### Operador not (negação lógica)\n",
    "\n",
    "O operador **not** ou negação lógica é um operador unário que inverte o valor booleano. O True vira False e o False, True. \n",
    "\n",
    "Todos os operadores lógicos podem ser apresentados através de um tabela. Essa tabela chamada de **Tabela Verdade** apresenta o comportamento do operador para cada uma das possibilidades de valores.\n",
    "\n",
    "A tabela verdade do operador **not** está apresentada abaixo:\n",
    "\n",
    "![alt text](https://i.ibb.co/WfHh1VG/not.png)\n"
   ]
  },
  {
   "cell_type": "code",
   "execution_count": null,
   "metadata": {
    "colab": {},
    "colab_type": "code",
    "id": "iMgMK_N_DEPe"
   },
   "outputs": [],
   "source": [
    "not True"
   ]
  },
  {
   "cell_type": "code",
   "execution_count": null,
   "metadata": {
    "colab": {},
    "colab_type": "code",
    "id": "gjXF8KI6HN8x"
   },
   "outputs": [],
   "source": [
    "not False"
   ]
  },
  {
   "cell_type": "markdown",
   "metadata": {
    "colab_type": "text",
    "id": "scTptEEUHXOG"
   },
   "source": [
    "### Operador or\n",
    "\n",
    "O operador **or** ou ou lógico, é um operador binário que tem o seguinte comportamento. O **or** é verdadeiro quando pelo menos um dos seus operandos é verdadeiro (True), caso contrário ele é falso (False). A tabela verdade do **or** está apresnetada abaixo:\n",
    "\n",
    "![tabela verdade or](https://i.ibb.co/mt80tpV/or.png)\n",
    "\n",
    "Antes de executar, tente indicar o valor das operações abaixo:"
   ]
  },
  {
   "cell_type": "code",
   "execution_count": null,
   "metadata": {
    "colab": {},
    "colab_type": "code",
    "id": "wiCxgN8VIKsR"
   },
   "outputs": [],
   "source": [
    "True or True"
   ]
  },
  {
   "cell_type": "code",
   "execution_count": null,
   "metadata": {
    "colab": {},
    "colab_type": "code",
    "id": "txyoPsyFIN21"
   },
   "outputs": [],
   "source": [
    "False or True"
   ]
  },
  {
   "cell_type": "code",
   "execution_count": null,
   "metadata": {
    "colab": {},
    "colab_type": "code",
    "id": "1TSt0FV6IQSX"
   },
   "outputs": [],
   "source": [
    "True or False or False"
   ]
  },
  {
   "cell_type": "markdown",
   "metadata": {
    "colab_type": "text",
    "id": "zO4tWa_RIPy-"
   },
   "source": [
    "### Operador and\n",
    "\n",
    "O operador **and** ou e lógico, é um operador binário que tem o seguinte comportamento. O **and** é verdadeiro quando todos os seus operandos são verdadeiros (True), caso contrário ele é falso (False). A tabela verdade do **and** está apresnetada abaixo:\n",
    "\n",
    "![Tabela verdade and](https://i.ibb.co/mDTYsR6/and.png)\n",
    "\n",
    "Antes de executar, tente indicar o valor das operações abaixo:"
   ]
  },
  {
   "cell_type": "code",
   "execution_count": null,
   "metadata": {
    "colab": {},
    "colab_type": "code",
    "id": "VslSJwmuI-_l"
   },
   "outputs": [],
   "source": [
    "True and False"
   ]
  },
  {
   "cell_type": "code",
   "execution_count": null,
   "metadata": {
    "colab": {},
    "colab_type": "code",
    "id": "WnRlmbTGJAt2"
   },
   "outputs": [],
   "source": [
    "False and True"
   ]
  },
  {
   "cell_type": "code",
   "execution_count": null,
   "metadata": {
    "colab": {},
    "colab_type": "code",
    "id": "3auWhy5yJDEv"
   },
   "outputs": [],
   "source": [
    "True and True and False"
   ]
  },
  {
   "cell_type": "markdown",
   "metadata": {
    "colab_type": "text",
    "id": "96yIt7-dJjIo"
   },
   "source": [
    "### Expressões Lógicas\n",
    "\n",
    "Podemos combinar os operadores descritos anteriormente para criar expressões lógicas, como apresentado no bloco de código abaixo."
   ]
  },
  {
   "cell_type": "code",
   "execution_count": null,
   "metadata": {
    "colab": {},
    "colab_type": "code",
    "id": "zvao-J07J1wS"
   },
   "outputs": [],
   "source": [
    "salario = 100\n",
    "idade = 20\n",
    "\n",
    "print (salario > 1000 and idade > 18)\n",
    "\n",
    "print (salario > 50 or idade < 19)"
   ]
  },
  {
   "cell_type": "markdown",
   "metadata": {
    "colab_type": "text",
    "id": "KuythQSvKZXR"
   },
   "source": [
    "(Exercício 1) Escreva uma expressão que informe se o aluno foi aprovado ou não. Para ser aprovado, todas as médias do aluno devem ser maiores que 7. Considere que o aluno cursa apenas três matérias, e que as nota de cada uma está armazenada nas seguintes variáveis: materia1, materia e materia3. Teste sua expressão no bloco abaixo:\n"
   ]
  },
  {
   "cell_type": "code",
   "execution_count": null,
   "metadata": {
    "colab": {},
    "colab_type": "code",
    "id": "Zck_jz94Km-z"
   },
   "outputs": [],
   "source": []
  },
  {
   "cell_type": "markdown",
   "metadata": {
    "colab_type": "text",
    "id": "wkYP9pCK7ooN"
   },
   "source": [
    "## Tipo de Dados String\n",
    "\n",
    "O tipo de dados **string** armazenam cadeias de caracteres como nomes e textos em geral. Cadeia de Caractere é uma sequência de símbolos como letras, números, sinais de pontuação, etc. Em python é delimitado por \", ' ou \"\"\".          \n",
    "\n",
    "\n",
    "Ex.: \"O valor é R$ 5.\"\n",
    "\n",
    "![alt text](https://i.ibb.co/rx73pQs/string.png)\n",
    "\n",
    "Toda string tem um tamanho definido. \n",
    "\n",
    "![alt text](https://i.ibb.co/Dz5bNrP/string2.png)\n",
    "\n",
    "A função **len** de Python é utilizado para retornar o tamanho de uma string."
   ]
  },
  {
   "cell_type": "code",
   "execution_count": null,
   "metadata": {
    "colab": {},
    "colab_type": "code",
    "id": "qYKnccQd9n18"
   },
   "outputs": [],
   "source": [
    "nome = \"Python\"\n",
    "print (len(nome))"
   ]
  },
  {
   "cell_type": "code",
   "execution_count": null,
   "metadata": {
    "colab": {},
    "colab_type": "code",
    "id": "Pbj_5D169wNA"
   },
   "outputs": [],
   "source": [
    "print (len(\"A\"))"
   ]
  },
  {
   "cell_type": "code",
   "execution_count": null,
   "metadata": {
    "colab": {},
    "colab_type": "code",
    "id": "4LyVYbXm9ymM"
   },
   "outputs": [],
   "source": [
    "print (len(\"AB\"))"
   ]
  },
  {
   "cell_type": "code",
   "execution_count": null,
   "metadata": {
    "colab": {},
    "colab_type": "code",
    "id": "m6sNdDYy91Ad"
   },
   "outputs": [],
   "source": [
    "print (len(\"\"))"
   ]
  },
  {
   "cell_type": "code",
   "execution_count": null,
   "metadata": {
    "colab": {},
    "colab_type": "code",
    "id": "Jw7aiqR6-YXd"
   },
   "outputs": [],
   "source": [
    "print (len(\"O rato roeu a roupa\"))"
   ]
  },
  {
   "cell_type": "markdown",
   "metadata": {
    "colab_type": "text",
    "id": "L8fDDtCH-wgP"
   },
   "source": [
    "Nós também podemos acessar faixas da String. \n",
    "\n",
    "![Indexação](https://i.ibb.co/bd2wQk5/indexacao.png)\n"
   ]
  },
  {
   "cell_type": "code",
   "execution_count": null,
   "metadata": {
    "colab": {},
    "colab_type": "code",
    "id": "p0-I--U8CNr7"
   },
   "outputs": [],
   "source": [
    "palavra = \"ABCDEF\""
   ]
  },
  {
   "cell_type": "markdown",
   "metadata": {
    "colab_type": "text",
    "id": "ji5VCsmnC2lN"
   },
   "source": [
    "Vamos primeiro confirmar o tamanho da string"
   ]
  },
  {
   "cell_type": "code",
   "execution_count": null,
   "metadata": {
    "colab": {},
    "colab_type": "code",
    "id": "u7FGEUeJCZ44"
   },
   "outputs": [],
   "source": [
    "print (len(palavra))"
   ]
  },
  {
   "cell_type": "markdown",
   "metadata": {
    "colab_type": "text",
    "id": "7ode277FC9Zu"
   },
   "source": [
    "É importante lembrar que a string tem como primeira posição, a posição de índice 0 . "
   ]
  },
  {
   "cell_type": "code",
   "execution_count": null,
   "metadata": {
    "colab": {},
    "colab_type": "code",
    "id": "B0OVPVwECQYm"
   },
   "outputs": [],
   "source": [
    "print (palavra[0])"
   ]
  },
  {
   "cell_type": "code",
   "execution_count": null,
   "metadata": {
    "colab": {},
    "colab_type": "code",
    "id": "NvM_jG3TCSlY"
   },
   "outputs": [],
   "source": [
    "print (palavra[5])"
   ]
  },
  {
   "cell_type": "markdown",
   "metadata": {
    "colab_type": "text",
    "id": "mFV4B8vYCgFn"
   },
   "source": [
    "O que acontecerá se for acessado a posição 6 da string?"
   ]
  },
  {
   "cell_type": "code",
   "execution_count": null,
   "metadata": {
    "colab": {},
    "colab_type": "code",
    "id": "OUqpHpcSCV8T"
   },
   "outputs": [],
   "source": [
    "print (palavra[6])"
   ]
  },
  {
   "cell_type": "markdown",
   "metadata": {
    "colab_type": "text",
    "id": "oCqWDwwxDuqy"
   },
   "source": [
    "O erro apresentado pelo interpretador (*String index out of range*) revela que estamos tentando acessar uma posição da String que está fora da faixa acessível. Uma vez que a String tem tamanho 6, os valores possíveis são 0, 1, 2, 3, 4 e 5. "
   ]
  },
  {
   "cell_type": "markdown",
   "metadata": {
    "colab_type": "text",
    "id": "s5PI6su6EMLU"
   },
   "source": [
    "## Concatenação de Strings\n",
    "\n",
    "Os conteúdos de variáveis strings podem ser concatenadas (somadas) ou repetidas. Para fazer tal operação usamos o operador + ou * com String\n"
   ]
  },
  {
   "cell_type": "code",
   "execution_count": null,
   "metadata": {
    "colab": {},
    "colab_type": "code",
    "id": "--M9lCX1FJ5y"
   },
   "outputs": [],
   "source": [
    "valor1 = \"ABC\"\n",
    "valor2 = \"DEF\""
   ]
  },
  {
   "cell_type": "code",
   "execution_count": null,
   "metadata": {
    "colab": {},
    "colab_type": "code",
    "id": "RmRjFG7WFP4Q"
   },
   "outputs": [],
   "source": [
    "valor1 + valor2"
   ]
  },
  {
   "cell_type": "code",
   "execution_count": null,
   "metadata": {
    "colab": {},
    "colab_type": "code",
    "id": "YFVoxdXHFRBK"
   },
   "outputs": [],
   "source": [
    "valor2 * 3"
   ]
  },
  {
   "cell_type": "markdown",
   "metadata": {
    "colab_type": "text",
    "id": "uglqLhX6FZkh"
   },
   "source": [
    "## Composição de String\n",
    "\n",
    "Juntar várias **strings** para compor uma mensagem nem sempre é fácil. Imagine que você queira exibir a idade de uma pessoa, mas ainda não sabe qual o valor que essa pessoa vai digitar. A mensagem que você quer exibir é: \n",
    "\n",
    "\"João tem x anos\"\n",
    "\n",
    "onde *x* é uma variável no programa. Se quisermos fazer um código que tenha esse comportamento\n",
    "\n",
    "`“João tem %d anos” % idade`\n",
    "\n",
    "\n",
    "em que *%d* é o marcador de posição e o *%* indica que é para compor a string com a variável idade. O *%d* é usado para o tipo inteiro, o *%f* usado para valores do tipo float e *%s* para strings. \n",
    "\n"
   ]
  },
  {
   "cell_type": "code",
   "execution_count": null,
   "metadata": {
    "colab": {},
    "colab_type": "code",
    "id": "EvhFewxKGmqM"
   },
   "outputs": [],
   "source": [
    "idade = 22"
   ]
  },
  {
   "cell_type": "code",
   "execution_count": null,
   "metadata": {
    "colab": {},
    "colab_type": "code",
    "id": "8Z-LnKRiGqBY"
   },
   "outputs": [],
   "source": [
    "\"[%d]\" % idade"
   ]
  },
  {
   "cell_type": "code",
   "execution_count": null,
   "metadata": {
    "colab": {},
    "colab_type": "code",
    "id": "Az1OCaK6Gsgd"
   },
   "outputs": [],
   "source": [
    "\"[%03d]\" % idade"
   ]
  },
  {
   "cell_type": "code",
   "execution_count": null,
   "metadata": {
    "colab": {},
    "colab_type": "code",
    "id": "IeFi-TpaGwMi"
   },
   "outputs": [],
   "source": [
    "\"[%3d]\" % idade"
   ]
  },
  {
   "cell_type": "code",
   "execution_count": null,
   "metadata": {
    "colab": {},
    "colab_type": "code",
    "id": "AZkZQIbYG3pm"
   },
   "outputs": [],
   "source": [
    "\"[%-3d]\" % idade"
   ]
  },
  {
   "cell_type": "markdown",
   "metadata": {
    "colab_type": "text",
    "id": "xXVDB_CmHV--"
   },
   "source": [
    "Quando trabalhamos com floats, podemos utilizar dois valores entre os símbolos de % e a letra f, %f. \n"
   ]
  },
  {
   "cell_type": "code",
   "execution_count": null,
   "metadata": {
    "colab": {},
    "colab_type": "code",
    "id": "M8BEeQ6LHbe8"
   },
   "outputs": [],
   "source": [
    "\"%5f\" % 5.0"
   ]
  },
  {
   "cell_type": "code",
   "execution_count": null,
   "metadata": {
    "colab": {},
    "colab_type": "code",
    "id": "Dh38duDtHdR4"
   },
   "outputs": [],
   "source": [
    "\"%5.2f\" % 5.0 "
   ]
  },
  {
   "cell_type": "code",
   "execution_count": null,
   "metadata": {
    "colab": {},
    "colab_type": "code",
    "id": "wgmV9-LTHhnw"
   },
   "outputs": [],
   "source": [
    "\"%10.5f\" % 5.0"
   ]
  },
  {
   "cell_type": "markdown",
   "metadata": {
    "colab_type": "text",
    "id": "JSkNnpblHlNM"
   },
   "source": [
    "O grande poder da composição se dar quando precisamos combinar vários valores para formar uma nova string.\n"
   ]
  },
  {
   "cell_type": "code",
   "execution_count": null,
   "metadata": {
    "colab": {},
    "colab_type": "code",
    "id": "zxCTk8CRHor8"
   },
   "outputs": [],
   "source": [
    "\"%s tem %d anos e apenas R$%5.2f no bolso\" % (\"Rodrigo\", 22, 51.34)"
   ]
  },
  {
   "cell_type": "markdown",
   "metadata": {
    "colab_type": "text",
    "id": "4XPBaWRpHv89"
   },
   "source": [
    "O formato de composição anterior vem caindo em desuso e sendo substituída por uma nova abordagem utilizando o método format (leia mais em https://docs.python.org/3/library/stdtypes.html#str).\n",
    "\n",
    "\n"
   ]
  },
  {
   "cell_type": "code",
   "execution_count": null,
   "metadata": {
    "colab": {},
    "colab_type": "code",
    "id": "Kmd4bhOyIDR5"
   },
   "outputs": [],
   "source": [
    "nome = \"Rodrigo\"\n",
    "idade = 22\n",
    "grana = 51.34\n",
    "\"{} tem {} anos e R${} no bolso\".format(nome, idade, grana)"
   ]
  },
  {
   "cell_type": "markdown",
   "metadata": {
    "colab_type": "text",
    "id": "hhLuo1xkaVWi"
   },
   "source": [
    "Outros exemplos de uso do format "
   ]
  },
  {
   "cell_type": "code",
   "execution_count": null,
   "metadata": {
    "colab": {},
    "colab_type": "code",
    "id": "SqwgbDDQaWZs"
   },
   "outputs": [],
   "source": [
    "\"{:12} tem {:3} anos e R${:5.2f} no bolso\".format(nome, idade, grana)"
   ]
  },
  {
   "cell_type": "code",
   "execution_count": null,
   "metadata": {
    "colab": {},
    "colab_type": "code",
    "id": "OuWA5CwdacZW"
   },
   "outputs": [],
   "source": [
    "\"{:12} tem {:03} anos e R${:5.2f} no bolso\".format(nome, idade, grana)"
   ]
  },
  {
   "cell_type": "code",
   "execution_count": null,
   "metadata": {
    "colab": {},
    "colab_type": "code",
    "id": "V4XVcEy9af0X"
   },
   "outputs": [],
   "source": [
    "\"{:<12s} tem {:<3} anos e R${:5.2f} no bolso\".format(nome, idade, grana)"
   ]
  },
  {
   "cell_type": "code",
   "execution_count": null,
   "metadata": {
    "colab": {},
    "colab_type": "code",
    "id": "vkzsLhuwH2W4"
   },
   "outputs": [],
   "source": [
    "palavra = \"casa\" "
   ]
  },
  {
   "cell_type": "code",
   "execution_count": null,
   "metadata": {
    "colab": {},
    "colab_type": "code",
    "id": "0bVCFX3dH5AD"
   },
   "outputs": [],
   "source": [
    "palavra.replace(\"s\", \"ç\")"
   ]
  },
  {
   "cell_type": "code",
   "execution_count": null,
   "metadata": {
    "colab": {},
    "colab_type": "code",
    "id": "0Im6Xd-RH8Ao"
   },
   "outputs": [],
   "source": [
    "palavra.upper()"
   ]
  },
  {
   "cell_type": "markdown",
   "metadata": {
    "colab_type": "text",
    "id": "-dFqIpIwa9kl"
   },
   "source": [
    "A evolução da forma de composição é o chamado *f-strings* , uma nova forma de compor strings em Python. "
   ]
  },
  {
   "cell_type": "code",
   "execution_count": null,
   "metadata": {
    "colab": {},
    "colab_type": "code",
    "id": "3paZC0FgbKbB"
   },
   "outputs": [],
   "source": [
    "nome = \"Rodrigo\"\n",
    "idade = 22\n",
    "grana = 51.33"
   ]
  },
  {
   "cell_type": "code",
   "execution_count": null,
   "metadata": {
    "colab": {},
    "colab_type": "code",
    "id": "_LXSvFchbcd9"
   },
   "outputs": [],
   "source": [
    "f\"{nome} tem {idade} e R${grana} no bolso\""
   ]
  },
  {
   "cell_type": "code",
   "execution_count": null,
   "metadata": {
    "colab": {},
    "colab_type": "code",
    "id": "s7k31s9_bZ9D"
   },
   "outputs": [],
   "source": [
    "f\"{nome:12} tem {idade:3} anos e R${grana:5.2f} no bolso\""
   ]
  },
  {
   "cell_type": "markdown",
   "metadata": {
    "colab_type": "text",
    "id": "xhwmO7fYfH5L"
   },
   "source": [
    "##Fatiamento de Strings\n",
    "\n",
    "Fatiar significa pegar pedaços da string\n",
    "\n",
    "![Indexação negativa](https://i.ibb.co/4gGs4VB/fatiamento.png)"
   ]
  },
  {
   "cell_type": "code",
   "execution_count": null,
   "metadata": {
    "colab": {},
    "colab_type": "code",
    "id": "yRsUoCSTfR1d"
   },
   "outputs": [],
   "source": [
    "s = \"ABCDEFGHI\""
   ]
  },
  {
   "cell_type": "code",
   "execution_count": null,
   "metadata": {
    "colab": {},
    "colab_type": "code",
    "id": "IbBX10kyfTZq"
   },
   "outputs": [],
   "source": [
    "s[0:2]"
   ]
  },
  {
   "cell_type": "code",
   "execution_count": null,
   "metadata": {
    "colab": {},
    "colab_type": "code",
    "id": "04sf5UnofVbm"
   },
   "outputs": [],
   "source": [
    "s[1:2]"
   ]
  },
  {
   "cell_type": "code",
   "execution_count": null,
   "metadata": {
    "colab": {},
    "colab_type": "code",
    "id": "S8SVVUjzfX0w"
   },
   "outputs": [],
   "source": [
    "s[2:4]"
   ]
  },
  {
   "cell_type": "code",
   "execution_count": null,
   "metadata": {
    "colab": {},
    "colab_type": "code",
    "id": "AdmQfqotfZa3"
   },
   "outputs": [],
   "source": [
    "s[0:5]"
   ]
  },
  {
   "cell_type": "markdown",
   "metadata": {
    "colab_type": "text",
    "id": "P9X-MHmwfd_v"
   },
   "source": [
    "Podemos também omitir um dos valores da direita ou da esquerda para representar início ou até o fim."
   ]
  },
  {
   "cell_type": "code",
   "execution_count": null,
   "metadata": {
    "colab": {},
    "colab_type": "code",
    "id": "S5clnCrYfe4c"
   },
   "outputs": [],
   "source": [
    "s[:4]"
   ]
  },
  {
   "cell_type": "code",
   "execution_count": null,
   "metadata": {
    "colab": {},
    "colab_type": "code",
    "id": "Cj7QeEORfgdI"
   },
   "outputs": [],
   "source": [
    "s[2:]"
   ]
  },
  {
   "cell_type": "markdown",
   "metadata": {
    "colab_type": "text",
    "id": "MCsB6Amqfmtg"
   },
   "source": [
    "Podemos também usar valores negativos para indicar posições da direita para a esquerda.\n",
    "\n",
    "![Indexação negativa](https://i.ibb.co/4gGs4VB/fatiamento.png)"
   ]
  },
  {
   "cell_type": "code",
   "execution_count": null,
   "metadata": {
    "colab": {},
    "colab_type": "code",
    "id": "D3JLGpGqfn8H"
   },
   "outputs": [],
   "source": [
    "s[-1:] "
   ]
  },
  {
   "cell_type": "code",
   "execution_count": null,
   "metadata": {
    "colab": {},
    "colab_type": "code",
    "id": "2bu9qPYzfqQN"
   },
   "outputs": [],
   "source": [
    "s[-5:7]"
   ]
  },
  {
   "cell_type": "code",
   "execution_count": null,
   "metadata": {
    "colab": {},
    "colab_type": "code",
    "id": "xW_MhgyFfrmJ"
   },
   "outputs": [],
   "source": [
    "s[-2:-1]"
   ]
  },
  {
   "cell_type": "markdown",
   "metadata": {
    "colab_type": "text",
    "id": "mj9Wsy_CP7zm"
   },
   "source": [
    "# Entrada de Dados\n",
    "\n",
    "A função **input** é utilizada para solicitar dados do usuário. Ela recebe um parâmetro que é a mensagem a ser exibida, e retorna o valor digitado pelo usuário. Esse valor retornado é por padrão do tipo String (cadeia de caractere)\n"
   ]
  },
  {
   "cell_type": "code",
   "execution_count": null,
   "metadata": {
    "colab": {},
    "colab_type": "code",
    "id": "ESDEW3lEQO8b"
   },
   "outputs": [],
   "source": [
    "num = input(\"Digite um número: \")\n",
    "print (num)"
   ]
  },
  {
   "cell_type": "code",
   "execution_count": null,
   "metadata": {
    "colab": {},
    "colab_type": "code",
    "id": "fc5BFqwAQU3L"
   },
   "outputs": [],
   "source": [
    "nome = input(\"Digite um nome: \")\n",
    "print (nome)"
   ]
  },
  {
   "cell_type": "markdown",
   "metadata": {
    "colab_type": "text",
    "id": "-UZgVTZhQbjw"
   },
   "source": [
    "Como informado anteriormente, a função **input** sempre retorna valores do tipo string, ou seja, não importa se digitamos apenas números, o resultado é sempre uma string. \n",
    "\n",
    "Para resolver esse problema utilizamos funções de conversão disponíveis em Python. \n"
   ]
  },
  {
   "cell_type": "code",
   "execution_count": null,
   "metadata": {
    "colab": {},
    "colab_type": "code",
    "id": "MOuGoJJ3QmJn"
   },
   "outputs": [],
   "source": [
    "a = \"2\"\n",
    "print (type(a))"
   ]
  },
  {
   "cell_type": "code",
   "execution_count": null,
   "metadata": {
    "colab": {},
    "colab_type": "code",
    "id": "lfoyW40HQslg"
   },
   "outputs": [],
   "source": [
    "novo_a = int(a)\n",
    "print (type(novo_a))"
   ]
  },
  {
   "cell_type": "markdown",
   "metadata": {
    "colab_type": "text",
    "id": "5Zk0vPn9Q3IQ"
   },
   "source": [
    "Além da função int(), outras funções de conversão que podem ser utilizadas são: \n",
    "\n",
    "str()  - para converter um valor em string\n",
    "\n",
    "float() - para converter um valor no tipo float\n",
    "\n",
    "bool()  - para converter um valor no tipo booleano \n",
    "\n",
    "Diferentemete de outras linguagens que possuem operadores de *casting*, as funções de Python geram um novo valor do tipo da função de conversão utilizada."
   ]
  },
  {
   "cell_type": "markdown",
   "metadata": {
    "colab_type": "text",
    "id": "sxARCrCxWsxb"
   },
   "source": [
    "# Leitura Complementar\n",
    "\n",
    "* https://realpython.com/python-data-types/\n",
    "\n",
    "* https://docs.python.org/3/library/stdtypes.html\n",
    "\n",
    "* https://www.journaldev.com/23435/python-complex-numbers-cmath\n",
    "\n",
    "* https://pyformat.info/\n",
    "\n",
    "* https://docs.python.org/3/tutorial/inputoutput.html#tut-f-strings\n",
    "\n",
    "* https://www.python.org/dev/peps/pep-0498/#examples-from-python-s-source-code\n",
    "\n"
   ]
  },
  {
   "cell_type": "markdown",
   "metadata": {
    "colab_type": "text",
    "id": "BITlCNheK0IQ"
   },
   "source": [
    "# Respostas\n",
    "\n",
    "Nesta seção são apresentadas as respostas das questões apresentadas. \n",
    "\n",
    "Exercício 1"
   ]
  },
  {
   "cell_type": "code",
   "execution_count": null,
   "metadata": {
    "colab": {},
    "colab_type": "code",
    "id": "lvucKv0IKwCY"
   },
   "outputs": [],
   "source": [
    "materia1 > 7 and materia2 > 7 and materia3 > 7"
   ]
  }
 ],
 "metadata": {
  "colab": {
   "name": "03. Variáveis, Tipos de Dados e Entradas de Dados",
   "private_outputs": true,
   "provenance": [],
   "toc_visible": true
  },
  "kernelspec": {
   "display_name": "Python 3 (ipykernel)",
   "language": "python",
   "name": "python3"
  },
  "language_info": {
   "codemirror_mode": {
    "name": "ipython",
    "version": 3
   },
   "file_extension": ".py",
   "mimetype": "text/x-python",
   "name": "python",
   "nbconvert_exporter": "python",
   "pygments_lexer": "ipython3",
   "version": "3.10.6"
  }
 },
 "nbformat": 4,
 "nbformat_minor": 1
}
