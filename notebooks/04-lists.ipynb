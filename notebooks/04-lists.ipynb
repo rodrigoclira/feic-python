{
 "cells": [
  {
   "attachments": {},
   "cell_type": "markdown",
   "metadata": {
    "colab_type": "text",
    "id": "HRGlSaf2zGu0"
   },
   "source": [
    "\n",
    "**Objetivo do notebook:**\n",
    "\n",
    "* Apresentar a estrutura de dados lista e as suas principais operações.\n",
    "\n",
    "# Listas\n",
    "\n",
    "Listas são um tipo de variável que permite armazenamento de vários valores, acessados por um índice. \n",
    "\n",
    "Semelhante ao conceito de Vetores ou Matrizes  em outras linguagens.\n",
    "\n",
    "lista = [ ] \n",
    "\n",
    "lista = [ 15, 8, 9 ] \n",
    "\n",
    "* Listas podem crescer dinamicamente.\n",
    "* O conteúdo de uma lista não precisa ser de um único tipo. \n",
    "\n"
   ]
  },
  {
   "cell_type": "code",
   "execution_count": null,
   "metadata": {
    "colab": {},
    "colab_type": "code",
    "id": "kTkpaBK1uC69"
   },
   "outputs": [],
   "source": [
    "lista = [\"a\", \"b\", \"c\"] \n",
    "lista[0]"
   ]
  },
  {
   "cell_type": "code",
   "execution_count": null,
   "metadata": {
    "colab": {
     "base_uri": "https://localhost:8080/",
     "height": 34
    },
    "colab_type": "code",
    "executionInfo": {
     "elapsed": 662,
     "status": "ok",
     "timestamp": 1592943868603,
     "user": {
      "displayName": "Pedro",
      "photoUrl": "https://lh3.googleusercontent.com/a-/AOh14GjNzY4xg9PnI2Xr5WUC08ueLm9oYowqG5la9rqgqSk=s64",
      "userId": "00139484785029158451"
     },
     "user_tz": 180
    },
    "id": "Fv6JLiStvBVT",
    "outputId": "3b667777-74db-40cd-853d-d753578de728"
   },
   "outputs": [
    {
     "data": {
      "text/plain": [
       "'b'"
      ]
     },
     "execution_count": 20,
     "metadata": {
      "tags": []
     },
     "output_type": "execute_result"
    }
   ],
   "source": [
    "lista[1]"
   ]
  },
  {
   "cell_type": "code",
   "execution_count": null,
   "metadata": {
    "colab": {
     "base_uri": "https://localhost:8080/",
     "height": 34
    },
    "colab_type": "code",
    "executionInfo": {
     "elapsed": 808,
     "status": "ok",
     "timestamp": 1592942200011,
     "user": {
      "displayName": "Pedro",
      "photoUrl": "https://lh3.googleusercontent.com/a-/AOh14GjNzY4xg9PnI2Xr5WUC08ueLm9oYowqG5la9rqgqSk=s64",
      "userId": "00139484785029158451"
     },
     "user_tz": 180
    },
    "id": "07TB0htDvICV",
    "outputId": "5e6af3f5-4c10-4df8-8042-c9a8de45c248"
   },
   "outputs": [
    {
     "name": "stdout",
     "output_type": "stream",
     "text": [
      "c\n"
     ]
    }
   ],
   "source": [
    "lista[2]"
   ]
  },
  {
   "cell_type": "code",
   "execution_count": null,
   "metadata": {
    "colab": {
     "base_uri": "https://localhost:8080/",
     "height": 34
    },
    "colab_type": "code",
    "executionInfo": {
     "elapsed": 705,
     "status": "ok",
     "timestamp": 1592943887006,
     "user": {
      "displayName": "Pedro",
      "photoUrl": "https://lh3.googleusercontent.com/a-/AOh14GjNzY4xg9PnI2Xr5WUC08ueLm9oYowqG5la9rqgqSk=s64",
      "userId": "00139484785029158451"
     },
     "user_tz": 180
    },
    "id": "XLsWaNfQvKbl",
    "outputId": "333f593c-02b2-4e4e-ad6e-7b12eff853df"
   },
   "outputs": [
    {
     "data": {
      "text/plain": [
       "[202, 'b', 'c']"
      ]
     },
     "execution_count": 21,
     "metadata": {
      "tags": []
     },
     "output_type": "execute_result"
    }
   ],
   "source": [
    "lista[0] = 202\n",
    "lista"
   ]
  },
  {
   "attachments": {},
   "cell_type": "markdown",
   "metadata": {
    "colab_type": "text",
    "id": "ezW2KYL3wxIz"
   },
   "source": [
    "## Usando a lista para calcular média"
   ]
  },
  {
   "cell_type": "code",
   "execution_count": null,
   "metadata": {
    "colab": {},
    "colab_type": "code",
    "id": "HWR8igeJwzuI"
   },
   "outputs": [],
   "source": [
    "nota = [6, 7, 5, 8, 9]\n",
    "soma = 0\n",
    "x = 0\n",
    "while x < 5:\n",
    "  soma += nota[x]\n",
    "  x += 1\n",
    "print(f\"Média: {soma/5:.2f}\")"
   ]
  },
  {
   "cell_type": "code",
   "execution_count": null,
   "metadata": {
    "colab": {},
    "colab_type": "code",
    "id": "lhfuZZoAxTHn"
   },
   "outputs": [],
   "source": [
    "nota = [0, 0, 0, 0, 0]\n",
    "soma = 0\n",
    "x = 0\n",
    "while x < 5:\n",
    "  nota[x] = float(input(f\"nota {x}:  \"))\n",
    "  soma += nota[x]\n",
    "  x+= 1\n",
    "x = 0\n",
    "while x < 5:\n",
    "  print(f\"nota {x}: {nota[x]:.2f}\")\n",
    "  x += 1\n",
    "\n",
    "print(f\"Média: {soma/5:.2f}\")"
   ]
  },
  {
   "attachments": {},
   "cell_type": "markdown",
   "metadata": {
    "colab_type": "text",
    "id": "BQa12i3d0iTQ"
   },
   "source": [
    "## Trabalhando com Índices\n",
    "\n",
    "![alt text](https://i.imgur.com/5vPEC9h.png)\n",
    "\n",
    "\n",
    "![alt text](https://i.imgur.com/2mv8deB.png)\n",
    "\n",
    "![alt text](https://i.imgur.com/wJUx2bs.png)\n",
    "\n"
   ]
  },
  {
   "cell_type": "code",
   "execution_count": null,
   "metadata": {
    "colab": {
     "base_uri": "https://localhost:8080/",
     "height": 85
    },
    "colab_type": "code",
    "executionInfo": {
     "elapsed": 658,
     "status": "ok",
     "timestamp": 1592943922985,
     "user": {
      "displayName": "Pedro",
      "photoUrl": "https://lh3.googleusercontent.com/a-/AOh14GjNzY4xg9PnI2Xr5WUC08ueLm9oYowqG5la9rqgqSk=s64",
      "userId": "00139484785029158451"
     },
     "user_tz": 180
    },
    "id": "L-XmKvyx1htl",
    "outputId": "8c618124-4c73-476c-e73a-0110cdbcc5d5"
   },
   "outputs": [
    {
     "name": "stdout",
     "output_type": "stream",
     "text": [
      "segunda\n",
      "segunda\n",
      "terça\n",
      "terça\n"
     ]
    }
   ],
   "source": [
    "dias = [\"segunda\", \"terça\"]\n",
    "print(dias[0])\n",
    "print(dias[-2])\n",
    "print(dias[1])\n",
    "print(dias[-1])"
   ]
  },
  {
   "attachments": {},
   "cell_type": "markdown",
   "metadata": {
    "colab_type": "text",
    "id": "pEcc4jjC2TGz"
   },
   "source": [
    "## Obtendo o tamanho de uma lista"
   ]
  },
  {
   "cell_type": "code",
   "execution_count": null,
   "metadata": {
    "colab": {
     "base_uri": "https://localhost:8080/",
     "height": 34
    },
    "colab_type": "code",
    "executionInfo": {
     "elapsed": 665,
     "status": "ok",
     "timestamp": 1592943841049,
     "user": {
      "displayName": "Pedro",
      "photoUrl": "https://lh3.googleusercontent.com/a-/AOh14GjNzY4xg9PnI2Xr5WUC08ueLm9oYowqG5la9rqgqSk=s64",
      "userId": "00139484785029158451"
     },
     "user_tz": 180
    },
    "id": "PIjf7cRY2V7R",
    "outputId": "10d52aa0-8040-4d45-83cc-f8618572f52e"
   },
   "outputs": [
    {
     "data": {
      "text/plain": [
       "2"
      ]
     },
     "execution_count": 18,
     "metadata": {
      "tags": []
     },
     "output_type": "execute_result"
    }
   ],
   "source": [
    "len(dias)"
   ]
  },
  {
   "cell_type": "code",
   "execution_count": null,
   "metadata": {
    "colab": {
     "base_uri": "https://localhost:8080/",
     "height": 34
    },
    "colab_type": "code",
    "executionInfo": {
     "elapsed": 656,
     "status": "ok",
     "timestamp": 1592943947726,
     "user": {
      "displayName": "Pedro",
      "photoUrl": "https://lh3.googleusercontent.com/a-/AOh14GjNzY4xg9PnI2Xr5WUC08ueLm9oYowqG5la9rqgqSk=s64",
      "userId": "00139484785029158451"
     },
     "user_tz": 180
    },
    "id": "XCNcfcR122sy",
    "outputId": "b09fd909-81e9-4256-f0d6-5f74da3298e5"
   },
   "outputs": [
    {
     "data": {
      "text/plain": [
       "3"
      ]
     },
     "execution_count": 25,
     "metadata": {
      "tags": []
     },
     "output_type": "execute_result"
    }
   ],
   "source": [
    "len([1, 2, 4.4])"
   ]
  },
  {
   "attachments": {},
   "cell_type": "markdown",
   "metadata": {
    "colab_type": "text",
    "id": "Nsp71vjA3Axg"
   },
   "source": [
    "## Imprimir todos os elementos da lista"
   ]
  },
  {
   "cell_type": "code",
   "execution_count": null,
   "metadata": {
    "colab": {},
    "colab_type": "code",
    "id": "6Y-jIXaD3DKI"
   },
   "outputs": [],
   "source": [
    "lista = [1, 2, 3]\n",
    "x = 0\n",
    "while x < len(lista):\n",
    "  print(lista[x])\n",
    "  x += 1"
   ]
  },
  {
   "attachments": {},
   "cell_type": "markdown",
   "metadata": {
    "colab_type": "text",
    "id": "tFTxJbyW3Ly2"
   },
   "source": [
    "A vantagem é que se modificar a lista por \n",
    "\n",
    "lista = [\"Instituto\", \"Federal\", 2, \"Pernambuco\"] \n",
    "\n",
    "continuaria funcionando."
   ]
  },
  {
   "attachments": {},
   "cell_type": "markdown",
   "metadata": {
    "colab_type": "text",
    "id": "H9nuOl3Q3jtp"
   },
   "source": [
    "## Fatiamento de uma lista\n",
    "\n",
    "Assim como as strings, é possível fatiar uma lista em python."
   ]
  },
  {
   "cell_type": "code",
   "execution_count": null,
   "metadata": {
    "colab": {
     "base_uri": "https://localhost:8080/",
     "height": 34
    },
    "colab_type": "code",
    "executionInfo": {
     "elapsed": 659,
     "status": "ok",
     "timestamp": 1592944199828,
     "user": {
      "displayName": "Pedro",
      "photoUrl": "https://lh3.googleusercontent.com/a-/AOh14GjNzY4xg9PnI2Xr5WUC08ueLm9oYowqG5la9rqgqSk=s64",
      "userId": "00139484785029158451"
     },
     "user_tz": 180
    },
    "id": "1gyqs-Nd3qO3",
    "outputId": "d29ffd87-986b-4091-fdbb-c1fd6884c061"
   },
   "outputs": [
    {
     "data": {
      "text/plain": [
       "['a', 'casa', 3, 4.5, 10]"
      ]
     },
     "execution_count": 27,
     "metadata": {
      "tags": []
     },
     "output_type": "execute_result"
    }
   ],
   "source": [
    "lista = [\"a\", \"casa\", 3, 4.5, 10]\n",
    "lista[0:5]"
   ]
  },
  {
   "cell_type": "code",
   "execution_count": null,
   "metadata": {
    "colab": {
     "base_uri": "https://localhost:8080/",
     "height": 34
    },
    "colab_type": "code",
    "executionInfo": {
     "elapsed": 702,
     "status": "ok",
     "timestamp": 1592944205881,
     "user": {
      "displayName": "Pedro",
      "photoUrl": "https://lh3.googleusercontent.com/a-/AOh14GjNzY4xg9PnI2Xr5WUC08ueLm9oYowqG5la9rqgqSk=s64",
      "userId": "00139484785029158451"
     },
     "user_tz": 180
    },
    "id": "Bi2-cSJh3yo0",
    "outputId": "262d56c9-f68c-4e21-fb28-9921297208f3"
   },
   "outputs": [
    {
     "data": {
      "text/plain": [
       "['a', 'casa', 3, 4.5, 10]"
      ]
     },
     "execution_count": 28,
     "metadata": {
      "tags": []
     },
     "output_type": "execute_result"
    }
   ],
   "source": [
    "lista[:5]"
   ]
  },
  {
   "cell_type": "code",
   "execution_count": null,
   "metadata": {
    "colab": {
     "base_uri": "https://localhost:8080/",
     "height": 34
    },
    "colab_type": "code",
    "executionInfo": {
     "elapsed": 656,
     "status": "ok",
     "timestamp": 1592944214328,
     "user": {
      "displayName": "Pedro",
      "photoUrl": "https://lh3.googleusercontent.com/a-/AOh14GjNzY4xg9PnI2Xr5WUC08ueLm9oYowqG5la9rqgqSk=s64",
      "userId": "00139484785029158451"
     },
     "user_tz": 180
    },
    "id": "gu9m8lJp30zM",
    "outputId": "7f0d0670-8a68-4169-d248-6bf06dcdb037"
   },
   "outputs": [
    {
     "data": {
      "text/plain": [
       "['a', 'casa', 3, 4.5]"
      ]
     },
     "execution_count": 29,
     "metadata": {
      "tags": []
     },
     "output_type": "execute_result"
    }
   ],
   "source": [
    "lista[:-1]"
   ]
  },
  {
   "cell_type": "code",
   "execution_count": null,
   "metadata": {
    "colab": {
     "base_uri": "https://localhost:8080/",
     "height": 34
    },
    "colab_type": "code",
    "executionInfo": {
     "elapsed": 651,
     "status": "ok",
     "timestamp": 1592944219630,
     "user": {
      "displayName": "Pedro",
      "photoUrl": "https://lh3.googleusercontent.com/a-/AOh14GjNzY4xg9PnI2Xr5WUC08ueLm9oYowqG5la9rqgqSk=s64",
      "userId": "00139484785029158451"
     },
     "user_tz": 180
    },
    "id": "LQ6YtRBJ323N",
    "outputId": "daaa43c3-6e6f-4776-996b-2f59179f9a8e"
   },
   "outputs": [
    {
     "data": {
      "text/plain": [
       "['casa', 3]"
      ]
     },
     "execution_count": 30,
     "metadata": {
      "tags": []
     },
     "output_type": "execute_result"
    }
   ],
   "source": [
    "lista[1:3]"
   ]
  },
  {
   "attachments": {},
   "cell_type": "markdown",
   "metadata": {
    "colab_type": "text",
    "id": "LlsI3AjF4B-r"
   },
   "source": [
    "O modelo é\n",
    "\n",
    "lista[inicio:fim:passo]\n",
    "\n",
    "* Inicio é 0 por padrão\n",
    "\n",
    "* Fim é o tamanho da lista +1 por padrão\n",
    "\n",
    "* Passo é 1 por padrão"
   ]
  },
  {
   "cell_type": "code",
   "execution_count": null,
   "metadata": {
    "colab": {
     "base_uri": "https://localhost:8080/",
     "height": 34
    },
    "colab_type": "code",
    "executionInfo": {
     "elapsed": 814,
     "status": "ok",
     "timestamp": 1592944385905,
     "user": {
      "displayName": "Pedro",
      "photoUrl": "https://lh3.googleusercontent.com/a-/AOh14GjNzY4xg9PnI2Xr5WUC08ueLm9oYowqG5la9rqgqSk=s64",
      "userId": "00139484785029158451"
     },
     "user_tz": 180
    },
    "id": "4A1IIasl4U0z",
    "outputId": "57ac7b32-fd36-4922-a699-4fdbc756f55e"
   },
   "outputs": [
    {
     "data": {
      "text/plain": [
       "['casa', 3, 4.5]"
      ]
     },
     "execution_count": 31,
     "metadata": {
      "tags": []
     },
     "output_type": "execute_result"
    }
   ],
   "source": [
    "lista = [\"a\", \"casa\", 3, 4.5, 10]\n",
    "lista[1:4]"
   ]
  },
  {
   "cell_type": "code",
   "execution_count": null,
   "metadata": {
    "colab": {
     "base_uri": "https://localhost:8080/",
     "height": 34
    },
    "colab_type": "code",
    "executionInfo": {
     "elapsed": 674,
     "status": "ok",
     "timestamp": 1592944392977,
     "user": {
      "displayName": "Pedro",
      "photoUrl": "https://lh3.googleusercontent.com/a-/AOh14GjNzY4xg9PnI2Xr5WUC08ueLm9oYowqG5la9rqgqSk=s64",
      "userId": "00139484785029158451"
     },
     "user_tz": 180
    },
    "id": "EfaRHpKT4cdb",
    "outputId": "595a9552-23f7-42ae-92fe-a8fbf9ab7eb3"
   },
   "outputs": [
    {
     "data": {
      "text/plain": [
       "[4.5, 10]"
      ]
     },
     "execution_count": 32,
     "metadata": {
      "tags": []
     },
     "output_type": "execute_result"
    }
   ],
   "source": [
    "lista[3:]"
   ]
  },
  {
   "cell_type": "code",
   "execution_count": null,
   "metadata": {
    "colab": {
     "base_uri": "https://localhost:8080/",
     "height": 34
    },
    "colab_type": "code",
    "executionInfo": {
     "elapsed": 729,
     "status": "ok",
     "timestamp": 1592944404144,
     "user": {
      "displayName": "Pedro",
      "photoUrl": "https://lh3.googleusercontent.com/a-/AOh14GjNzY4xg9PnI2Xr5WUC08ueLm9oYowqG5la9rqgqSk=s64",
      "userId": "00139484785029158451"
     },
     "user_tz": 180
    },
    "id": "a_YVvPCZ4g-r",
    "outputId": "6c5d3885-28dc-4147-c1e1-5e1289a793e9"
   },
   "outputs": [
    {
     "data": {
      "text/plain": [
       "['a', 'casa', 3]"
      ]
     },
     "execution_count": 33,
     "metadata": {
      "tags": []
     },
     "output_type": "execute_result"
    }
   ],
   "source": [
    "lista[:3]"
   ]
  },
  {
   "cell_type": "code",
   "execution_count": null,
   "metadata": {
    "colab": {
     "base_uri": "https://localhost:8080/",
     "height": 34
    },
    "colab_type": "code",
    "executionInfo": {
     "elapsed": 653,
     "status": "ok",
     "timestamp": 1592944419150,
     "user": {
      "displayName": "Pedro",
      "photoUrl": "https://lh3.googleusercontent.com/a-/AOh14GjNzY4xg9PnI2Xr5WUC08ueLm9oYowqG5la9rqgqSk=s64",
      "userId": "00139484785029158451"
     },
     "user_tz": 180
    },
    "id": "UrY3WpJb4i88",
    "outputId": "9141fd34-8ba7-4b67-bc90-e6544e6e5096"
   },
   "outputs": [
    {
     "data": {
      "text/plain": [
       "10"
      ]
     },
     "execution_count": 34,
     "metadata": {
      "tags": []
     },
     "output_type": "execute_result"
    }
   ],
   "source": [
    "lista[-1]"
   ]
  },
  {
   "cell_type": "code",
   "execution_count": null,
   "metadata": {
    "colab": {
     "base_uri": "https://localhost:8080/",
     "height": 34
    },
    "colab_type": "code",
    "executionInfo": {
     "elapsed": 667,
     "status": "ok",
     "timestamp": 1592944421471,
     "user": {
      "displayName": "Pedro",
      "photoUrl": "https://lh3.googleusercontent.com/a-/AOh14GjNzY4xg9PnI2Xr5WUC08ueLm9oYowqG5la9rqgqSk=s64",
      "userId": "00139484785029158451"
     },
     "user_tz": 180
    },
    "id": "4myceA5U4kVc",
    "outputId": "5b631253-d154-4efe-e8b7-8d4f0cf4d6e3"
   },
   "outputs": [
    {
     "data": {
      "text/plain": [
       "4.5"
      ]
     },
     "execution_count": 35,
     "metadata": {
      "tags": []
     },
     "output_type": "execute_result"
    }
   ],
   "source": [
    "lista[-2]"
   ]
  },
  {
   "attachments": {},
   "cell_type": "markdown",
   "metadata": {
    "colab_type": "text",
    "id": "OjrL9oUP4yGA"
   },
   "source": [
    "## Adiçao de elementos à lista\n",
    "\n",
    "* Uma grande vantagem da lista é que ela pode ser expandida ou contraída. \n",
    "\n",
    "* Para realizar isso utilizamos o método append da própria lista. "
   ]
  },
  {
   "cell_type": "code",
   "execution_count": null,
   "metadata": {
    "colab": {},
    "colab_type": "code",
    "id": "JnUyxztb47I6"
   },
   "outputs": [],
   "source": [
    "lista = [ ] \n",
    "lista.append(\"a\")\n",
    "lista"
   ]
  },
  {
   "cell_type": "code",
   "execution_count": null,
   "metadata": {
    "colab": {},
    "colab_type": "code",
    "id": "ci6YJc_q4_zp"
   },
   "outputs": [],
   "source": [
    "lista.append(\"b\")\n",
    "lista"
   ]
  },
  {
   "cell_type": "code",
   "execution_count": null,
   "metadata": {
    "colab": {},
    "colab_type": "code",
    "id": "dHrVLEg85C4J"
   },
   "outputs": [],
   "source": [
    "len(lista)"
   ]
  },
  {
   "cell_type": "code",
   "execution_count": null,
   "metadata": {
    "colab": {},
    "colab_type": "code",
    "id": "ySXZYNyr5FI5"
   },
   "outputs": [],
   "source": [
    "lista[2] = \"c\""
   ]
  },
  {
   "cell_type": "code",
   "execution_count": null,
   "metadata": {
    "colab": {},
    "colab_type": "code",
    "id": "j-ypN2eG5aDg"
   },
   "outputs": [],
   "source": [
    "lista = []\n",
    "\n",
    "while True:\n",
    "  n = int(input(\"Digite um número (0 sai)\"))\n",
    "  if n == 0:\n",
    "    break\n",
    "  lista.append(n)\n",
    "x = 0\n",
    "while x < len(lista):\n",
    "  print(lista[x])\n",
    "  x += 1"
   ]
  },
  {
   "cell_type": "code",
   "execution_count": null,
   "metadata": {
    "colab": {
     "base_uri": "https://localhost:8080/",
     "height": 34
    },
    "colab_type": "code",
    "executionInfo": {
     "elapsed": 664,
     "status": "ok",
     "timestamp": 1592944776964,
     "user": {
      "displayName": "Pedro",
      "photoUrl": "https://lh3.googleusercontent.com/a-/AOh14GjNzY4xg9PnI2Xr5WUC08ueLm9oYowqG5la9rqgqSk=s64",
      "userId": "00139484785029158451"
     },
     "user_tz": 180
    },
    "id": "EtXSTEDj6Cn-",
    "outputId": "5f8728f6-4854-46d9-d663-5aeb931366ad"
   },
   "outputs": [
    {
     "data": {
      "text/plain": [
       "[[2, 3]]"
      ]
     },
     "execution_count": 42,
     "metadata": {
      "tags": []
     },
     "output_type": "execute_result"
    }
   ],
   "source": [
    "#Adicionando a [2, 3] na lista\n",
    "mlista = [ ]\n",
    "mlista.append([2, 3])\n",
    "mlista\n"
   ]
  },
  {
   "cell_type": "code",
   "execution_count": null,
   "metadata": {
    "colab": {
     "base_uri": "https://localhost:8080/",
     "height": 34
    },
    "colab_type": "code",
    "executionInfo": {
     "elapsed": 635,
     "status": "ok",
     "timestamp": 1592944807775,
     "user": {
      "displayName": "Pedro",
      "photoUrl": "https://lh3.googleusercontent.com/a-/AOh14GjNzY4xg9PnI2Xr5WUC08ueLm9oYowqG5la9rqgqSk=s64",
      "userId": "00139484785029158451"
     },
     "user_tz": 180
    },
    "id": "fE0qxoFa6J-G",
    "outputId": "4b680406-d228-445e-95fa-8bcfac9631e2"
   },
   "outputs": [
    {
     "data": {
      "text/plain": [
       "[2, 3]"
      ]
     },
     "execution_count": 43,
     "metadata": {
      "tags": []
     },
     "output_type": "execute_result"
    }
   ],
   "source": [
    "#Adicionando o 2, 3 na lista\n",
    "mlista = [ ]\n",
    "mlista.extend([2, 3]) \n",
    "mlista\n"
   ]
  },
  {
   "attachments": {},
   "cell_type": "markdown",
   "metadata": {
    "colab_type": "text",
    "id": "3d0G0PQg6aCH"
   },
   "source": [
    "* Assim como podemos adicionar novos elementos, a lista permite que elementos sejam retirados. Para isso utilizamos a instrução **del** ou o método **remove**.\n",
    "\n",
    "* Através da instrução **del** é possível remover uma elemento através de seu índice. \n",
    "\n",
    "* O método **remove** apaga a primeira aparição de um determinado valor. \n"
   ]
  },
  {
   "cell_type": "code",
   "execution_count": null,
   "metadata": {
    "colab": {},
    "colab_type": "code",
    "id": "7rHxxufi7CDf"
   },
   "outputs": [],
   "source": [
    "lista = [\"a\", \"b\", \"c\"] \n",
    "del lista[1]\n",
    "lista"
   ]
  },
  {
   "cell_type": "code",
   "execution_count": null,
   "metadata": {
    "colab": {},
    "colab_type": "code",
    "id": "vn_S94NR7Ll7"
   },
   "outputs": [],
   "source": [
    "del lista[0]"
   ]
  },
  {
   "cell_type": "code",
   "execution_count": null,
   "metadata": {
    "colab": {},
    "colab_type": "code",
    "id": "PJT6ca0Q7Oxc"
   },
   "outputs": [],
   "source": [
    "#Apagando fatias\n",
    "lista = list(range(101))\n",
    "del lista[1:99] \n",
    "lista"
   ]
  },
  {
   "cell_type": "code",
   "execution_count": null,
   "metadata": {
    "colab": {},
    "colab_type": "code",
    "id": "6pmjDKCa7iNa"
   },
   "outputs": [],
   "source": [
    "lista = [\"a\", \"b\", \"c\", \"a\"] \n",
    "lista.remove(\"a\")\n",
    "lista"
   ]
  },
  {
   "cell_type": "code",
   "execution_count": null,
   "metadata": {
    "colab": {},
    "colab_type": "code",
    "id": "CZ9qlp9C7nFb"
   },
   "outputs": [],
   "source": [
    "lista.remove(\"v\")"
   ]
  },
  {
   "cell_type": "code",
   "execution_count": null,
   "metadata": {
    "colab": {},
    "colab_type": "code",
    "id": "PbCyk8QM70JQ"
   },
   "outputs": [],
   "source": [
    "lista.remove(\"c\")\n",
    "lista"
   ]
  },
  {
   "attachments": {},
   "cell_type": "markdown",
   "metadata": {
    "colab_type": "text",
    "id": "wnP3BTxC8YxA"
   },
   "source": [
    "## Operador in"
   ]
  },
  {
   "cell_type": "code",
   "execution_count": null,
   "metadata": {
    "colab": {},
    "colab_type": "code",
    "id": "8MhpJ7xe8CIA"
   },
   "outputs": [],
   "source": [
    "lista = [\"a\", \"b\", \"c\" , \"a\"] \n",
    "lista.remove(\"a\")\n",
    "lista"
   ]
  },
  {
   "cell_type": "code",
   "execution_count": null,
   "metadata": {
    "colab": {},
    "colab_type": "code",
    "id": "Da-eBCU78L2R"
   },
   "outputs": [],
   "source": [
    "#Para checar se a string \"v\" está contida na lista\n",
    "\"v\" in lista"
   ]
  },
  {
   "cell_type": "code",
   "execution_count": null,
   "metadata": {
    "colab": {},
    "colab_type": "code",
    "id": "Q5fTh0PY8Ppo"
   },
   "outputs": [],
   "source": [
    "\"a\" in lista"
   ]
  },
  {
   "cell_type": "code",
   "execution_count": null,
   "metadata": {
    "colab": {},
    "colab_type": "code",
    "id": "F64Au5I-8Sf5"
   },
   "outputs": [],
   "source": [
    "\"v\" not in lista"
   ]
  },
  {
   "attachments": {},
   "cell_type": "markdown",
   "metadata": {
    "colab_type": "text",
    "id": "Cxr1BmU68zgZ"
   },
   "source": [
    "## Listas dentro de listas\n",
    "\n",
    "Uma lista pode ter outras listas como elemento. Essa abordagem pode ser útil para determinados problemas. "
   ]
  },
  {
   "cell_type": "code",
   "execution_count": null,
   "metadata": {
    "colab": {},
    "colab_type": "code",
    "id": "p1Df1iCu88Tf"
   },
   "outputs": [],
   "source": [
    "lista = [[0, 0, 0, 1], [0, 0, 2, 2], [0, 3, 3, 3], [4,4,4,4]]\n",
    "i = 0\n",
    "j = 0\n",
    "while i < 4:\n",
    "  j = 0\n",
    "  while j < 4:\n",
    "    print(lista[i][j], end ='')\n",
    "    j+=1\n",
    "  i+=1\n",
    "  print('')"
   ]
  },
  {
   "attachments": {},
   "cell_type": "markdown",
   "metadata": {
    "colab_type": "text",
    "id": "0Ru2Cudx9cGm"
   },
   "source": [
    "Com listas é possível reproduzir o conceito de vetores de outras linguagens e as listas dentro de listas permitem simular uma matriz. \n",
    "* Vetor (array uni-dimensional) é uma variável que armazena várias variáveis do mesmo tipo.\n",
    "* Matriz (array multi-dimensional) é um vetor de vetores. \n",
    "\n",
    "Para mais informações, acesse: \n",
    "https://dicasdeprogramacao.com.br/o-que-sao-vetores-e-matrizes-arrays/\n",
    "\n",
    "## Leitura recomendada\n",
    "\n",
    "Estudar os métodos disponíveis na lista: \n",
    "\n",
    "https://docs.python.org/3/library/stdtypes.html#list\n",
    "\n",
    "\n"
   ]
  }
 ],
 "metadata": {
  "colab": {
   "authorship_tag": "ABX9TyObZnP6IwCBWFZm0JODzBxy",
   "name": "06.1 Listas.ipynb",
   "provenance": []
  },
  "kernelspec": {
   "display_name": "Python 3 (ipykernel)",
   "language": "python",
   "name": "python3"
  },
  "language_info": {
   "codemirror_mode": {
    "name": "ipython",
    "version": 3
   },
   "file_extension": ".py",
   "mimetype": "text/x-python",
   "name": "python",
   "nbconvert_exporter": "python",
   "pygments_lexer": "ipython3",
   "version": "3.10.6"
  }
 },
 "nbformat": 4,
 "nbformat_minor": 1
}
