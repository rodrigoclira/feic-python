{
 "cells": [
  {
   "cell_type": "markdown",
   "metadata": {
    "colab_type": "text",
    "id": "6ZH0Dqa1otrF"
   },
   "source": [
    "# Funções\n",
    "\n",
    "Apresentar as instruções utilizadas para criar funções em Python. Diferença entre escopo local e global\n"
   ]
  },
  {
   "cell_type": "markdown",
   "metadata": {
    "colab_type": "text",
    "id": "wu6BG6lko2XP"
   },
   "source": [
    "Já visualizamos algumas funções da biblioteca padrão de Python\n",
    "**len, print, input, enumerate**...\n"
   ]
  },
  {
   "cell_type": "markdown",
   "metadata": {
    "colab_type": "text",
    "id": "BG6Vlahuo-Kx"
   },
   "source": [
    "Por que utilizamos?\n"
   ]
  },
  {
   "cell_type": "markdown",
   "metadata": {
    "colab_type": "text",
    "id": "Vi6ZL7FspAG9"
   },
   "source": [
    "O que elas têm de comum?\n",
    "* Recebem parâmetros\n",
    "* Retornam um resultado\n",
    "* São da biblioteca padrão de Python\n"
   ]
  },
  {
   "cell_type": "markdown",
   "metadata": {
    "colab_type": "text",
    "id": "F12J88V5pHX9"
   },
   "source": [
    "![texto alternativo](https://i.imgur.com/I11Jq3A.png)"
   ]
  },
  {
   "cell_type": "markdown",
   "metadata": {
    "colab_type": "text",
    "id": "YcBDjbNYpVAz"
   },
   "source": [
    "Nem sempre a biblioteca padrão consegue nos oferecer todos os tipos de funções que precisamos. Muitas vezes precisamos encapsular alguma lógica na do nosso programa em uma função para podermos reutilizar em outros trechos do código. \n",
    "\n",
    "A instrução **def** é utilizada para declarar função em Python. \n"
   ]
  },
  {
   "cell_type": "markdown",
   "metadata": {
    "colab_type": "text",
    "id": "re-fXVxQpod3"
   },
   "source": [
    "```\n",
    "def nome(parametros):\n",
    "  return retorno_da_função\n",
    "\n",
    "print(nome(chamando_função))\n",
    "```\n",
    "\n",
    "Logo abaixo é definida a função soma:\n"
   ]
  },
  {
   "cell_type": "code",
   "execution_count": null,
   "metadata": {
    "colab": {},
    "colab_type": "code",
    "id": "xI0V4fEOqHPK"
   },
   "outputs": [],
   "source": [
    "def soma(a,b):\n",
    "  return a + b"
   ]
  },
  {
   "cell_type": "code",
   "execution_count": null,
   "metadata": {
    "colab": {},
    "colab_type": "code",
    "id": "4F4APS5SomYe"
   },
   "outputs": [],
   "source": [
    "print(soma(2,3))"
   ]
  },
  {
   "cell_type": "markdown",
   "metadata": {
    "colab_type": "text",
    "id": "FPYV2R_Wqlu7"
   },
   "source": [
    "* Uma função só é executada se ela for chamada no código. \n",
    "* Uma função precisa ser criada ou importada antes de ser usada.\n",
    "* Uma função pode também não retornar nenhum valor "
   ]
  },
  {
   "cell_type": "markdown",
   "metadata": {
    "colab_type": "text",
    "id": "n94Q96EFqzGx"
   },
   "source": [
    "## Exercício"
   ]
  },
  {
   "cell_type": "markdown",
   "metadata": {
    "colab_type": "text",
    "id": "blKm6dyCsWSL"
   },
   "source": [
    "Crie uma função que recebe um número inteiro e retorna True, se o número for par, ou False, se ele for ímpar. **Exemplo**\n",
    "```\n",
    "def ehPar(numero):\n",
    "  if numero % 2 == 0:\n",
    "    return True\n",
    "  else:\n",
    "    return False\n",
    "```\n"
   ]
  },
  {
   "cell_type": "markdown",
   "metadata": {
    "colab_type": "text",
    "id": "GFd_kW8ArK4T"
   },
   "source": [
    "1. Crie uma função que recebe dois números e imprime na tela qual é o maior.  \n",
    "2. Escreva uma função que receba a base e a altura de um triângulo e retorne a sua área. \n",
    "A = (base x altura) / 2\n",
    "3. Implemente uma função que recebe dois valores inteiros e retorne o resultado da divisão e do resto da divisão desses dois números.\n",
    "4. Crie uma função que receba uma lista e um valor. Caso o valor esteja na lista, a função deve retornar as posições (índices) do elemento na lista. Se o elemento não estiver na lista, a função deve retornar uma lista vazia.\n",
    "5. Crie uma função que calcula o fatorial de um número. "
   ]
  },
  {
   "cell_type": "markdown",
   "metadata": {
    "colab_type": "text",
    "id": "ln0PopS2rkj0"
   },
   "source": [
    "## Variaveis Globais e Locais"
   ]
  },
  {
   "cell_type": "markdown",
   "metadata": {
    "colab_type": "text",
    "id": "bvrIW0-irs1P"
   },
   "source": [
    "Quando usamos funções, começamos a trabalhar com variáveis externas ou globais e variáveis internas ou locais. "
   ]
  },
  {
   "cell_type": "markdown",
   "metadata": {
    "colab_type": "text",
    "id": "f1f12DRmrtto"
   },
   "source": [
    "A diferença dessas duas variáveis é a visibilidade ou escopo das variáveis. "
   ]
  },
  {
   "cell_type": "markdown",
   "metadata": {
    "colab_type": "text",
    "id": "pX2f4iucr0Cy"
   },
   "source": [
    "### Variavel Local\n",
    "\n",
    "Uma variável local a uma função existe apenas dentro dela, sendo normalmente inicializada a cada chamada. Assim não podemos acessá-la fora da função que a criou. \n",
    "\n",
    "```\n",
    "def nome(parametros):\n",
    "  variavel_local = parametros\n",
    "  return retorno_da_função\n",
    "\n",
    "print(nome(chamando_função))\n",
    "```\n"
   ]
  },
  {
   "cell_type": "code",
   "execution_count": null,
   "metadata": {
    "colab": {},
    "colab_type": "code",
    "id": "QcoMc6U8sCO4"
   },
   "outputs": [],
   "source": [
    "def soma(a,b):\n",
    "  s = a + b\n",
    "  return s"
   ]
  },
  {
   "cell_type": "code",
   "execution_count": null,
   "metadata": {
    "colab": {
     "base_uri": "https://localhost:8080/",
     "height": 34
    },
    "colab_type": "code",
    "executionInfo": {
     "elapsed": 956,
     "status": "ok",
     "timestamp": 1593125704351,
     "user": {
      "displayName": "Gabriel Lima",
      "photoUrl": "",
      "userId": "09579688607165550943"
     },
     "user_tz": 180
    },
    "id": "yKnqAsuXsOn4",
    "outputId": "564fb4b3-bc3b-4744-dee0-3c9887bb958b"
   },
   "outputs": [
    {
     "name": "stdout",
     "output_type": "stream",
     "text": [
      "9\n"
     ]
    }
   ],
   "source": [
    "print(soma(4,5))"
   ]
  },
  {
   "cell_type": "markdown",
   "metadata": {
    "colab_type": "text",
    "id": "hEg4HDQwsuEn"
   },
   "source": [
    "### Variavel Global\n",
    "\n",
    "Uma variável global é definida fora de uma função, podendo ser vista por todo o programa e por todos os módulos que importarem o módulo no qual ela foi criada.\n",
    "\n",
    "```\n",
    "variavel_global = valor\n",
    "\n",
    "def nome():\n",
    "  return retorno_da_função\n",
    "\n",
    "print(nome(chamando_função))\n",
    "```\n"
   ]
  },
  {
   "cell_type": "code",
   "execution_count": null,
   "metadata": {
    "colab": {},
    "colab_type": "code",
    "id": "Ow9V4fbitEOn"
   },
   "outputs": [],
   "source": [
    "empresa = 'Unidos venceremos LTDA'"
   ]
  },
  {
   "cell_type": "code",
   "execution_count": null,
   "metadata": {
    "colab": {},
    "colab_type": "code",
    "id": "elHWYkcEtI7Q"
   },
   "outputs": [],
   "source": [
    "def imprima_cabecalho():\n",
    "  print(empresa)\n",
    "  print('-'*len(empresa))\n"
   ]
  },
  {
   "cell_type": "code",
   "execution_count": null,
   "metadata": {
    "colab": {
     "base_uri": "https://localhost:8080/",
     "height": 51
    },
    "colab_type": "code",
    "executionInfo": {
     "elapsed": 565,
     "status": "ok",
     "timestamp": 1593126007195,
     "user": {
      "displayName": "Gabriel Lima",
      "photoUrl": "",
      "userId": "09579688607165550943"
     },
     "user_tz": 180
    },
    "id": "qcO9qFektZGu",
    "outputId": "0fcc5b82-fa22-4a7b-9dee-60c9164227e4"
   },
   "outputs": [
    {
     "name": "stdout",
     "output_type": "stream",
     "text": [
      "Unidos venceremos LTDA\n",
      "----------------------\n"
     ]
    }
   ],
   "source": [
    "imprima_cabecalho()"
   ]
  },
  {
   "cell_type": "markdown",
   "metadata": {
    "colab_type": "text",
    "id": "9iEe8C1OtoYh"
   },
   "source": [
    "## Parametros com valor padrão\n",
    "\n",
    "\n",
    "\n",
    "```\n",
    "def saudacao(nome = 'rodrigo'):\n",
    "  print(f'Bem vindo {nome}')\n",
    "\n",
    "saudacao()\n",
    "saudacao('andre')\n",
    "```\n",
    "\n",
    "## Exercicio criar função fatorial"
   ]
  },
  {
   "cell_type": "code",
   "execution_count": 2,
   "metadata": {},
   "outputs": [],
   "source": [
    "# Crie a função fatorial de forma iterativa"
   ]
  },
  {
   "cell_type": "markdown",
   "metadata": {},
   "source": [
    "# Conteúdo Complementar"
   ]
  },
  {
   "cell_type": "markdown",
   "metadata": {
    "colab_type": "text",
    "id": "AqiPIob6ubtf"
   },
   "source": [
    "## Funções Recursivas"
   ]
  },
  {
   "cell_type": "markdown",
   "metadata": {
    "colab_type": "text",
    "id": "aiVOgj9gufjV"
   },
   "source": [
    "Uma função pode chamar a si mesmo. Quando isso ocorre, temos uma função recursiva. O programa do fatorial é interessante para demonstrar o conceito de recursividade. \n",
    "\n",
    "Definição do Fatorial:\n",
    "\n",
    "![texto alternativo](data:image/png;base64,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)"
   ]
  },
  {
   "cell_type": "code",
   "execution_count": null,
   "metadata": {
    "colab": {},
    "colab_type": "code",
    "id": "91SUuC5TvkBi"
   },
   "outputs": [],
   "source": [
    "def fatorial(numero):\n",
    "  if numero <= 1:\n",
    "      return 1\n",
    "  else:\n",
    "    return numero * fatorial(numero - 1)"
   ]
  },
  {
   "cell_type": "code",
   "execution_count": null,
   "metadata": {
    "colab": {},
    "colab_type": "code",
    "id": "B89qDNZ-wAyd"
   },
   "outputs": [],
   "source": [
    "numero = int(input('digite um numero: '))\n",
    "print(fatorial(numero))"
   ]
  },
  {
   "cell_type": "markdown",
   "metadata": {
    "colab_type": "text",
    "id": "VbpBaEfJwWS2"
   },
   "source": [
    "![texto alternativo](https://i.imgur.com/KqvLmtd.png)"
   ]
  },
  {
   "cell_type": "markdown",
   "metadata": {
    "colab_type": "text",
    "id": "rp4VqBcIvhbW"
   },
   "source": [
    "### Exercicio\n",
    "\n",
    "crie a funcção do fibonacci\n",
    "\n",
    "definição:\n",
    "\n",
    "![texto alternativo](https://i.imgur.com/TFD5mnO.png)"
   ]
  },
  {
   "cell_type": "markdown",
   "metadata": {
    "colab_type": "text",
    "id": "ynhERejTxDcs"
   },
   "source": [
    "## Leitura complementar\n",
    "\n",
    "[Material 1](https://medium.com/@otaviobn/entendendo-as-fun%C3%A7%C3%B5es-lambda-no-python-cbe3c5abb179\n",
    ")\n",
    "\n",
    "[Material 2](http://pythonclub.com.br/progrmacao-funcional-com-python-1.html)\n",
    "\n",
    "[Material 3](http://excript.com/python/argumentos-nomeados-posicionais-python.html\n",
    ")"
   ]
  }
 ],
 "metadata": {
  "colab": {
   "collapsed_sections": [
    "n94Q96EFqzGx",
    "ln0PopS2rkj0",
    "hEg4HDQwsuEn"
   ],
   "name": "Funções.ipynb",
   "provenance": []
  },
  "kernelspec": {
   "display_name": "Python 3 (ipykernel)",
   "language": "python",
   "name": "python3"
  },
  "language_info": {
   "codemirror_mode": {
    "name": "ipython",
    "version": 3
   },
   "file_extension": ".py",
   "mimetype": "text/x-python",
   "name": "python",
   "nbconvert_exporter": "python",
   "pygments_lexer": "ipython3",
   "version": "3.10.6"
  }
 },
 "nbformat": 4,
 "nbformat_minor": 1
}
