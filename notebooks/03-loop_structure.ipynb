{
 "cells": [
  {
   "cell_type": "markdown",
   "metadata": {
    "colab_type": "text",
    "id": "rmVfAu5gWhH_"
   },
   "source": [
    "**Objetivo do notebook:**\n",
    "\n",
    "* Apresentar o conceito de estruturas de Repetição em Python\n",
    "\n",
    "# Estrutura de Repetição"
   ]
  },
  {
   "cell_type": "markdown",
   "metadata": {
    "colab_type": "text",
    "id": "iFxAzqMfXH72"
   },
   "source": [
    "Repetições representam a base de vários programa.\n",
    "\n",
    "São utilizadas para executar a mesma parte de um programa várias vezes, normalmente dependendo de uma condição.\n"
   ]
  },
  {
   "cell_type": "markdown",
   "metadata": {
    "colab_type": "text",
    "id": "cnt-KZC1ZaAS"
   },
   "source": [
    "Por exemplo, um programa que imprima de 1 a 3 na tela. "
   ]
  },
  {
   "cell_type": "code",
   "execution_count": null,
   "metadata": {
    "colab": {},
    "colab_type": "code",
    "id": "9gNRu-DkWWQr",
    "vscode": {
     "languageId": "python"
    }
   },
   "outputs": [],
   "source": [
    "x = 1\n",
    "print(x)\n",
    "x = x + 1\n",
    "print(x)\n",
    "x = x + 1\n",
    "print (x)"
   ]
  },
  {
   "cell_type": "markdown",
   "metadata": {
    "colab_type": "text",
    "id": "nD7IHXmBZyty"
   },
   "source": [
    "Imagine escrever de 1 a 100 na tela"
   ]
  },
  {
   "cell_type": "markdown",
   "metadata": {
    "colab_type": "text",
    "id": "2mQ7dCFuaB1L"
   },
   "source": [
    "# While\n",
    "A estrutura **while** repete um bloco de código enquanto a condição for verdadeira.\n",
    "```\n",
    "while <condição>:\n",
    "  bloco\n",
    "```\n",
    "A condição é uma expressão lógica, e o bloco representa linhas dos programas a repetir \n",
    "\n"
   ]
  },
  {
   "cell_type": "markdown",
   "metadata": {
    "colab_type": "text",
    "id": "Jl4PZ1FValCy"
   },
   "source": [
    "O exemplo da impressão dos números usando o while ficaria:"
   ]
  },
  {
   "cell_type": "code",
   "execution_count": null,
   "metadata": {
    "colab": {},
    "colab_type": "code",
    "id": "dDlw2WDWaokH",
    "vscode": {
     "languageId": "python"
    }
   },
   "outputs": [],
   "source": [
    "x = 1"
   ]
  },
  {
   "cell_type": "code",
   "execution_count": null,
   "metadata": {
    "colab": {},
    "colab_type": "code",
    "id": "R6IeGoVVatDu",
    "vscode": {
     "languageId": "python"
    }
   },
   "outputs": [],
   "source": [
    "while x <= 3:\n",
    "  print(x)\n",
    "  x += 1\n"
   ]
  },
  {
   "cell_type": "markdown",
   "metadata": {
    "colab_type": "text",
    "id": "fEp0rasSbCmv"
   },
   "source": [
    "### Exercício\n",
    "\n",
    "1.   Modifique o programa anterior para imprimir de 1 até 100.\n",
    "2.   Modifique o programa anterior para imprimir de 50 até 100.\n",
    "3.   Faça um programa para imprimir a contagem regressiva de um foguete. O programa deve imprimir 10, 9, 8, …, 1, 0 e Fogo! na tela. \n",
    "\n"
   ]
  },
  {
   "cell_type": "markdown",
   "metadata": {
    "colab_type": "text",
    "id": "FlALOJbEgI41"
   },
   "source": [
    "## Contadores"
   ]
  },
  {
   "cell_type": "markdown",
   "metadata": {
    "colab_type": "text",
    "id": "bvi4Xi9RWebN"
   },
   "source": [
    "O poder das estruturas de repetições é muito interessante, principalmente quando utilizamos condições com mais de uma variável.\n"
   ]
  },
  {
   "cell_type": "markdown",
   "metadata": {
    "colab_type": "text",
    "id": "yNPlK4mTb2W5"
   },
   "source": [
    "Normalmente utilizamos variáveis para controlar a quantidade de repetições (contadores)"
   ]
  },
  {
   "cell_type": "markdown",
   "metadata": {
    "colab_type": "text",
    "id": "dzwrcTmYb600"
   },
   "source": [
    "Imagine um problema em que deveríamos imprimir os números inteiros entre 1 e um valor digitado pelo usuário. \n"
   ]
  },
  {
   "cell_type": "code",
   "execution_count": null,
   "metadata": {
    "colab": {},
    "colab_type": "code",
    "id": "5aMQ7ThvbYY_",
    "vscode": {
     "languageId": "python"
    }
   },
   "outputs": [],
   "source": [
    "fim = int(input('digite o ultimo numero: '))"
   ]
  },
  {
   "cell_type": "code",
   "execution_count": null,
   "metadata": {
    "colab": {},
    "colab_type": "code",
    "id": "LKvJLe9HcSHX",
    "vscode": {
     "languageId": "python"
    }
   },
   "outputs": [],
   "source": [
    "x = 1"
   ]
  },
  {
   "cell_type": "code",
   "execution_count": null,
   "metadata": {
    "colab": {},
    "colab_type": "code",
    "id": "iq5KV4bccVQm",
    "vscode": {
     "languageId": "python"
    }
   },
   "outputs": [],
   "source": [
    "while x <= fim:\n",
    "  print(x)\n",
    "  x = x + 1"
   ]
  },
  {
   "cell_type": "markdown",
   "metadata": {
    "colab_type": "text",
    "id": "QRjpjouPcf_V"
   },
   "source": [
    "Digite 5, 500 e 0 \n",
    "Entenda o resultado… \n"
   ]
  },
  {
   "cell_type": "markdown",
   "metadata": {
    "colab_type": "text",
    "id": "OwRVQjb8cxwZ"
   },
   "source": [
    "### Execícios\n",
    "\n",
    "\n",
    "\n",
    "1.   Faça um programa que imprima os números pares de 0 até o número digitado pelo usuário.\n",
    "2.   Faça um programa que imprima os 10 primeiros múltiplos de 3.\n",
    "3. Faça um programa que imprima a tabuada da adição de um número digitado pelo usuário. \n",
    "\n"
   ]
  },
  {
   "cell_type": "markdown",
   "metadata": {
    "colab_type": "text",
    "id": "0-nBIJ70g7UW"
   },
   "source": [
    "### Contadores e Bloco de decisão"
   ]
  },
  {
   "cell_type": "code",
   "execution_count": null,
   "metadata": {
    "colab": {},
    "colab_type": "code",
    "id": "Y-qdsid3gyxd",
    "vscode": {
     "languageId": "python"
    }
   },
   "outputs": [],
   "source": [
    "pontos = 0\n",
    "questao = 1"
   ]
  },
  {
   "cell_type": "code",
   "execution_count": null,
   "metadata": {
    "colab": {},
    "colab_type": "code",
    "id": "JNuu6F_ig3Uv",
    "vscode": {
     "languageId": "python"
    }
   },
   "outputs": [],
   "source": [
    "while questao <= 3:\n",
    "  resposta = input(f'Resposta da questão{questao}: ')\n",
    "  if questao == 1 and resposta == 'b':\n",
    "    pontos = pontos + 1\n",
    "  if questao == 2 and resposta == 'a':\n",
    "    pontos = pontos + 1\n",
    "  if questao == 3 and resposta == 'c':\n",
    "    pontos = pontos + 1\n",
    "  questao = questao + 1"
   ]
  },
  {
   "cell_type": "code",
   "execution_count": null,
   "metadata": {
    "colab": {},
    "colab_type": "code",
    "id": "g8xK3isih9gl",
    "vscode": {
     "languageId": "python"
    }
   },
   "outputs": [],
   "source": [
    "print(f'O Aluno fez {pontos} ponto(s)')"
   ]
  },
  {
   "cell_type": "markdown",
   "metadata": {
    "colab_type": "text",
    "id": "TILrevl8d4pf"
   },
   "source": [
    "## Acumuladores"
   ]
  },
  {
   "cell_type": "markdown",
   "metadata": {
    "colab_type": "text",
    "id": "_pHP0nbjeHCv"
   },
   "source": [
    "Nem sempre conseguimos resolver problemas que precisem de repetição usando contadores. Muitas vezes são necessários acumuladores. \n"
   ]
  },
  {
   "cell_type": "markdown",
   "metadata": {
    "colab_type": "text",
    "id": "bXaY-tk5eS1l"
   },
   "source": [
    "A diferença entre um contador e um acumulador **é que nos contadores o valor adicionado é constante** e, nos **acumuladores, variável.** \n"
   ]
  },
  {
   "cell_type": "markdown",
   "metadata": {
    "colab_type": "text",
    "id": "OnG_MG2VeZ_4"
   },
   "source": [
    "Um programa que calcula a soma de 10 números"
   ]
  },
  {
   "cell_type": "code",
   "execution_count": null,
   "metadata": {
    "colab": {},
    "colab_type": "code",
    "id": "E8V1hmyGedPf",
    "vscode": {
     "languageId": "python"
    }
   },
   "outputs": [],
   "source": [
    "n = 1\n",
    "soma = 0"
   ]
  },
  {
   "cell_type": "code",
   "execution_count": null,
   "metadata": {
    "colab": {},
    "colab_type": "code",
    "id": "1wOkJAtFehS2",
    "vscode": {
     "languageId": "python"
    }
   },
   "outputs": [],
   "source": [
    "while n <= 10:\n",
    "  x = int(input(f\"digite o {n} número: \"))\n",
    "  soma = soma + x\n",
    "  n = n + 1"
   ]
  },
  {
   "cell_type": "code",
   "execution_count": null,
   "metadata": {
    "colab": {},
    "colab_type": "code",
    "id": "pJoWq8oGfrVb",
    "vscode": {
     "languageId": "python"
    }
   },
   "outputs": [],
   "source": [
    "print(soma)"
   ]
  },
  {
   "cell_type": "markdown",
   "metadata": {
    "colab_type": "text",
    "id": "cC_yiwTbf0aD"
   },
   "source": [
    "### Exercícios\n",
    "\n",
    "1. Calcule a média aritmética de 5 números inteiros digitados pelo usuário.\n",
    "2. Escreva um programa que pergunte o depósito inicial e a taxa de juros de uma poupança. Exiba os valores mês a mês para os 24 primeiros meses. Escreva o total ganho com juros no período. \n",
    "3. Escreva um programa que pergunte o valor inicial de uma dívida e o juros mensal. Pergunte o valor mensal que será pago. Imprima o número de meses para que a dívida seja paga, o total pago e o total de juros pago.\n"
   ]
  },
  {
   "cell_type": "markdown",
   "metadata": {
    "colab_type": "text",
    "id": "j79xyu-pi0V6"
   },
   "source": [
    "## Operadores Atribução Especiais\n",
    "\n",
    "```\n",
    "x = x + 1 igual à x += 1\n",
    "\n",
    "x = x - 1 igual à x -= 1\n",
    "\n",
    "x = x * 1 igual à x *= 1\n",
    "\n",
    "x = x / 1 igual à x /= 1\n",
    "\n",
    "x = x ** 1 igual à x **= 1\n",
    "\n",
    "x = x // 1 igual à x //= 1\n",
    "```\n",
    "\n"
   ]
  },
  {
   "cell_type": "markdown",
   "metadata": {
    "colab_type": "text",
    "id": "NKXkE8Y7mDa2"
   },
   "source": [
    "## Interrompendo a Repetição "
   ]
  },
  {
   "cell_type": "markdown",
   "metadata": {
    "colab_type": "text",
    "id": "f3f0djoOnnev"
   },
   "source": [
    "Embora muito útil, a estrutura while só verifica a condição de parada no início de cada repetição, Dependendo do problema, a habilidade de terminar o while dentro do bloco é interessante. A instrução **break** serve para esse propósito. Ele encerra o bloco while atual independente da condição de parada."
   ]
  },
  {
   "cell_type": "code",
   "execution_count": null,
   "metadata": {
    "colab": {},
    "colab_type": "code",
    "id": "zdCHS6uZmuLh",
    "vscode": {
     "languageId": "python"
    }
   },
   "outputs": [],
   "source": [
    "soma = 0"
   ]
  },
  {
   "cell_type": "code",
   "execution_count": null,
   "metadata": {
    "colab": {},
    "colab_type": "code",
    "id": "WYq5NSoWmwPV",
    "vscode": {
     "languageId": "python"
    }
   },
   "outputs": [],
   "source": [
    "while True:\n",
    "  valor = int(input('Digite um numero a somar ou 0 para sair: '))\n",
    "  if valor == 0:\n",
    "    break\n",
    "  soma += valor"
   ]
  },
  {
   "cell_type": "code",
   "execution_count": null,
   "metadata": {
    "colab": {},
    "colab_type": "code",
    "id": "inESvGQTnFb0",
    "vscode": {
     "languageId": "python"
    }
   },
   "outputs": [],
   "source": [
    "print(soma)"
   ]
  },
  {
   "cell_type": "markdown",
   "metadata": {
    "colab_type": "text",
    "id": "m5bkwxQgmX5f"
   },
   "source": [
    "### Exercício\n",
    "\n",
    "1. Escreva um programa que leia números inteiros do teclado. O programa deve ler os números até que o usuário digite 0 (zero). No final da execução, exiba a quantidade de números digitados, assim como a soma e a média aritmética. \n"
   ]
  },
  {
   "cell_type": "markdown",
   "metadata": {
    "colab_type": "text",
    "id": "zsOuDejFneVa"
   },
   "source": [
    "## Repetições Aninhadas\n"
   ]
  },
  {
   "cell_type": "markdown",
   "metadata": {
    "colab_type": "text",
    "id": "DQirE9SCn6VT"
   },
   "source": [
    "Podemos combinar vários while de forma a obter resultados mais interessantes, como a repetição com incremento de duas variáveis. \n",
    "\n",
    "Imagine imprimir as tabuadas da multiplicação de 1 a 10."
   ]
  },
  {
   "cell_type": "code",
   "execution_count": null,
   "metadata": {
    "colab": {},
    "colab_type": "code",
    "id": "7jkJysPkoDyM",
    "vscode": {
     "languageId": "python"
    }
   },
   "outputs": [],
   "source": [
    "tabuada = 1"
   ]
  },
  {
   "cell_type": "code",
   "execution_count": null,
   "metadata": {
    "colab": {},
    "colab_type": "code",
    "id": "1tJyfbTfoGyc",
    "vscode": {
     "languageId": "python"
    }
   },
   "outputs": [],
   "source": [
    "while tabuada <= 10:\n",
    "  numero = 1\n",
    "  while numero <= 10:\n",
    "    print(f'{tabuada} x {numero} = {tabuada * numero}')\n",
    "    numero += 1\n",
    "  tabuada += 1"
   ]
  },
  {
   "cell_type": "markdown",
   "metadata": {
    "colab_type": "text",
    "id": "urLhJ0Cloh6G"
   },
   "source": [
    "### Exercício\n",
    "\n",
    "1. Escreva um programa que exiba uma lista de opções (menu): adição, subtração, divisão, multiplicação e sair. Imprima a tabuada da operação escolhida. Repita até a opção sair seja escolhida. \n",
    "2. Escreva um programa que ler um número n e imprime os n primeiros números primos.\n"
   ]
  },
  {
   "cell_type": "markdown",
   "metadata": {
    "colab_type": "text",
    "id": "K5Jv22rBq81j"
   },
   "source": [
    "# For\n",
    "\n",
    "estrutura de repetição **for**, especialmente projetada para percorrer listas.\n",
    "\n",
    "```\n",
    "for variavel in <condição>:\n",
    "  bloco\n",
    "```\n",
    "Em outras linguagens a estrutura for do python é chamada de forEach. O for normalmente funciona de outra forma…\n",
    "\n"
   ]
  },
  {
   "cell_type": "code",
   "execution_count": null,
   "metadata": {
    "colab": {},
    "colab_type": "code",
    "id": "7byvqnzNVhFJ",
    "vscode": {
     "languageId": "python"
    }
   },
   "outputs": [],
   "source": [
    "lista = [8,9,12]"
   ]
  },
  {
   "cell_type": "code",
   "execution_count": null,
   "metadata": {
    "colab": {},
    "colab_type": "code",
    "id": "9jU_h-GhVlAP",
    "vscode": {
     "languageId": "python"
    }
   },
   "outputs": [],
   "source": [
    "for valor in lista:\n",
    "  print(valor)"
   ]
  },
  {
   "cell_type": "markdown",
   "metadata": {
    "colab_type": "text",
    "id": "fhRGNggAVyg1"
   },
   "source": [
    "Equivale:"
   ]
  },
  {
   "cell_type": "code",
   "execution_count": null,
   "metadata": {
    "colab": {},
    "colab_type": "code",
    "id": "C71_OVa1VxV3",
    "vscode": {
     "languageId": "python"
    }
   },
   "outputs": [],
   "source": [
    "cont = 0"
   ]
  },
  {
   "cell_type": "code",
   "execution_count": null,
   "metadata": {
    "colab": {},
    "colab_type": "code",
    "id": "Uz003ZE3s_H9",
    "vscode": {
     "languageId": "python"
    }
   },
   "outputs": [],
   "source": [
    "while cont < len(lista):\n",
    "  valor = lista[cont]\n",
    "  print(valor)\n",
    "  cont += 1"
   ]
  },
  {
   "cell_type": "markdown",
   "metadata": {
    "colab_type": "text",
    "id": "JhoQ6m29WPXr"
   },
   "source": [
    "Embora a estrutura de repetição **for** facilite o nosso trabalho, ela não substitui totalmente a instrução **while**. "
   ]
  },
  {
   "cell_type": "markdown",
   "metadata": {
    "colab_type": "text",
    "id": "Jbq9wxMKWTi4"
   },
   "source": [
    "Normalmente, utilizamos for quando queremos percorrer uma variável que é iterável (lista, tupla, dicionário... ). O while normalmente é utilizado quando não sabemos a quantidade de iterações (repetições).  "
   ]
  },
  {
   "cell_type": "markdown",
   "metadata": {
    "colab_type": "text",
    "id": "C9cNT2PCWfhx"
   },
   "source": [
    "As instruções **break** e **continue** funcionam também com a estrutura de repetição for."
   ]
  },
  {
   "cell_type": "code",
   "execution_count": null,
   "metadata": {
    "colab": {},
    "colab_type": "code",
    "id": "4DG-b0Y_WjGv",
    "vscode": {
     "languageId": "python"
    }
   },
   "outputs": [],
   "source": [
    "for i in [2,4,5,6,8,10]:\n",
    "  if i % 2 != 0:\n",
    "    print(i)\n",
    "    break\n"
   ]
  },
  {
   "cell_type": "markdown",
   "metadata": {
    "colab_type": "text",
    "id": "Hdb6luJFW8aJ"
   },
   "source": [
    "## Range\n",
    "\n"
   ]
  },
  {
   "cell_type": "markdown",
   "metadata": {
    "colab_type": "text",
    "id": "weGUIP8eWXvy"
   },
   "source": [
    "O range é uma função que gera ‘listas’ de forma rápida. Nas versões mais recentes de Python ele gera um generator. "
   ]
  },
  {
   "cell_type": "markdown",
   "metadata": {
    "colab_type": "text",
    "id": "pcrJrDFJXPuT"
   },
   "source": [
    "```\n",
    ">>> range(10)\n",
    "range(0,10)\n",
    "\n",
    ">>> list(range(10))\n",
    "[0,1,2,3,4,5,6,7,8,9]\n",
    "```"
   ]
  },
  {
   "cell_type": "code",
   "execution_count": null,
   "metadata": {
    "colab": {},
    "colab_type": "code",
    "id": "00Tadv04XveT",
    "vscode": {
     "languageId": "python"
    }
   },
   "outputs": [],
   "source": [
    "for i in range(10):\n",
    "  print(i, end = ' ')"
   ]
  },
  {
   "cell_type": "markdown",
   "metadata": {
    "colab_type": "text",
    "id": "_u2Kzkk6YBH7"
   },
   "source": [
    "**range(inicio, fim, passo)**\n",
    "inicio e passo são opcionais. \n",
    "\n",
    "Valor padrão\n",
    "inicio = 0\n",
    "\n",
    "passo = 1 \n",
    "\n"
   ]
  },
  {
   "cell_type": "markdown",
   "metadata": {
    "colab_type": "text",
    "id": "axLV9yI2YkX1"
   },
   "source": [
    "## Enumerate"
   ]
  },
  {
   "cell_type": "markdown",
   "metadata": {
    "colab_type": "text",
    "id": "QlK6A1xvYptN"
   },
   "source": [
    "Normalmente, quando se está usando for, se faz necessário saber a posição do elemento atual na lista. A função enumerate permite tal funcionalidade de forma simples."
   ]
  },
  {
   "cell_type": "code",
   "execution_count": null,
   "metadata": {
    "colab": {},
    "colab_type": "code",
    "id": "Qk2KQdTJYxGH",
    "vscode": {
     "languageId": "python"
    }
   },
   "outputs": [],
   "source": [
    "alunos = ['Davi', 'João', 'jose']\n",
    "ordem = 0"
   ]
  },
  {
   "cell_type": "code",
   "execution_count": null,
   "metadata": {
    "colab": {},
    "colab_type": "code",
    "id": "rTHktR-7Y4-u",
    "vscode": {
     "languageId": "python"
    }
   },
   "outputs": [],
   "source": [
    "for nome in alunos:\n",
    "  print(ordem, nome)\n",
    "  ordem += 1"
   ]
  },
  {
   "cell_type": "markdown",
   "metadata": {
    "colab_type": "text",
    "id": "nW_6zbAVZLhN"
   },
   "source": [
    "\n",
    "```\n",
    "[(0,Davi), (1, João), (2, Jose)]\n",
    "```\n",
    "\n"
   ]
  },
  {
   "cell_type": "markdown",
   "metadata": {
    "colab_type": "text",
    "id": "lUUXwZzdZWA9"
   },
   "source": [
    "Enumerate recebe um iterável de Python e retorna um generator de uma lista que contém tuplas de dois elementos, onde o primeiro elemento é a posição do valor no iterável e o segundo valor é o próprio valor.\n",
    "\n",
    "```\n",
    ">>> alunos = [‘Davi’, ‘João’, ‘Jose’]\n",
    ">>> list(enumerate(alunos))\n",
    "[(0, 'Davi'), (1, 'João'), (2, 'Jose')]\n",
    "\n",
    "```"
   ]
  },
  {
   "cell_type": "code",
   "execution_count": null,
   "metadata": {
    "colab": {
     "base_uri": "https://localhost:8080/",
     "height": 68
    },
    "colab_type": "code",
    "executionInfo": {
     "elapsed": 639,
     "status": "ok",
     "timestamp": 1592953268282,
     "user": {
      "displayName": "Gabriel Lima",
      "photoUrl": "",
      "userId": "09579688607165550943"
     },
     "user_tz": 180
    },
    "id": "QOhclJ6uZg4L",
    "outputId": "78ac3a93-f2f9-43ee-d58d-476312acb47c",
    "vscode": {
     "languageId": "python"
    }
   },
   "outputs": [],
   "source": [
    "for ordem, nome in enumerate(alunos):\n",
    "  print(ordem, nome)"
   ]
  },
  {
   "cell_type": "markdown",
   "metadata": {
    "colab_type": "text",
    "id": "xnRd0cosov9b"
   },
   "source": [
    "## Leitura Complementar\n"
   ]
  },
  {
   "cell_type": "markdown",
   "metadata": {
    "colab_type": "text",
    "id": "ErRduC7bo50s"
   },
   "source": [
    "Instrução **Continue**\n",
    "\n",
    "* [Material 1](http://excript.com/python/instrucao-continue-python.html)\n",
    "\n",
    "* [Material 2](https://docs.python.org/3/reference/simple_stmts.html#continue)\n"
   ]
  },
  {
   "cell_type": "code",
   "execution_count": null,
   "metadata": {
    "colab": {},
    "colab_type": "code",
    "id": "HyHBGAsdo_OC",
    "vscode": {
     "languageId": "python"
    }
   },
   "outputs": [],
   "source": [
    "x = 0"
   ]
  },
  {
   "cell_type": "code",
   "execution_count": null,
   "metadata": {
    "colab": {},
    "colab_type": "code",
    "id": "DdUL85cipB0F",
    "vscode": {
     "languageId": "python"
    }
   },
   "outputs": [],
   "source": [
    "while x <= 10:\n",
    "  x += 1\n",
    "  if x % 2 == 0:\n",
    "    continue\n",
    "  print(x)"
   ]
  }
 ],
 "metadata": {
  "colab": {
   "collapsed_sections": [
    "2mQ7dCFuaB1L",
    "FlALOJbEgI41",
    "TILrevl8d4pf"
   ],
   "name": "Estrutura de Repetição.ipynb",
   "provenance": []
  },
  "kernelspec": {
   "display_name": "Python 3 (ipykernel)",
   "language": "python",
   "name": "python3"
  },
  "language_info": {
   "codemirror_mode": {
    "name": "ipython",
    "version": 3
   },
   "file_extension": ".py",
   "mimetype": "text/x-python",
   "name": "python",
   "nbconvert_exporter": "python",
   "pygments_lexer": "ipython3",
   "version": "3.10.6"
  }
 },
 "nbformat": 4,
 "nbformat_minor": 1
}
