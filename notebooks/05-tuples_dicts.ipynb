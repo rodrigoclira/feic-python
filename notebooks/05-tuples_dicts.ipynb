{
 "cells": [
  {
   "cell_type": "markdown",
   "metadata": {
    "colab_type": "text",
    "id": "hUHYzF_AWhoJ"
   },
   "source": [
    "Objetivo do notebook: \n",
    "\n",
    "* Apresentar o tipo de dados tuplas \n",
    "\n",
    "* Apresentar o tipo de dados dicionário de Python \n",
    "\n",
    "\n",
    "# Tuplas\n",
    "\n",
    "* Tuplas podem ser vistas como listas em Python, com a grande diferença de serem imutáveis.\n",
    "\n",
    "* Elas são ideias para representar listas de valores constantes e para realizar operações de empacotamento de desempacotamento. \n"
   ]
  },
  {
   "cell_type": "code",
   "execution_count": null,
   "metadata": {
    "colab": {},
    "colab_type": "code",
    "id": "JWRNmvwfUSp_"
   },
   "outputs": [],
   "source": [
    "tupla = (\"a\", \"b\", \"c\")\n",
    "tupla"
   ]
  },
  {
   "cell_type": "markdown",
   "metadata": {},
   "source": [
    "Indexação de tuplas"
   ]
  },
  {
   "cell_type": "code",
   "execution_count": null,
   "metadata": {
    "colab": {},
    "colab_type": "code",
    "id": "4EuC3458W9QV"
   },
   "outputs": [],
   "source": [
    "tupla[0]"
   ]
  },
  {
   "cell_type": "code",
   "execution_count": null,
   "metadata": {
    "colab": {},
    "colab_type": "code",
    "id": "LTn4YNgIW_fl"
   },
   "outputs": [],
   "source": [
    "tupla[1:]"
   ]
  },
  {
   "cell_type": "markdown",
   "metadata": {},
   "source": [
    "Repetição de tuplas"
   ]
  },
  {
   "cell_type": "code",
   "execution_count": null,
   "metadata": {
    "colab": {},
    "colab_type": "code",
    "id": "JZJnCdbdXA_1"
   },
   "outputs": [],
   "source": [
    "tupla*2"
   ]
  },
  {
   "cell_type": "code",
   "execution_count": null,
   "metadata": {
    "colab": {},
    "colab_type": "code",
    "id": "idiBYZW5XCnt"
   },
   "outputs": [],
   "source": [
    "len(tupla)"
   ]
  },
  {
   "cell_type": "code",
   "execution_count": null,
   "metadata": {
    "colab": {},
    "colab_type": "code",
    "id": "SwUXtZRrXMmt"
   },
   "outputs": [],
   "source": [
    "tupla[0] = “A”"
   ]
  },
  {
   "cell_type": "code",
   "execution_count": null,
   "metadata": {
    "colab": {},
    "colab_type": "code",
    "id": "a5zFNQaPXTut"
   },
   "outputs": [],
   "source": [
    "#Empacotamento\n",
    "tupla = 100, 200, 300\n",
    "tupla"
   ]
  },
  {
   "cell_type": "code",
   "execution_count": null,
   "metadata": {
    "colab": {},
    "colab_type": "code",
    "id": "-GvMrvxbXYSw"
   },
   "outputs": [],
   "source": [
    "#Desempacotamento\n",
    "a, b, c = tupla\n",
    "a"
   ]
  },
  {
   "cell_type": "code",
   "execution_count": null,
   "metadata": {
    "colab": {},
    "colab_type": "code",
    "id": "K6DRQBYDXbu9"
   },
   "outputs": [],
   "source": [
    "b"
   ]
  },
  {
   "cell_type": "code",
   "execution_count": null,
   "metadata": {
    "colab": {},
    "colab_type": "code",
    "id": "hhCIeyg0Xlar"
   },
   "outputs": [],
   "source": [
    "#Essa funcionalidade que nos permite trocar valores rapidamente\n",
    "a, b = 10, 20\n",
    "a, b = b, a\n",
    "a"
   ]
  },
  {
   "cell_type": "code",
   "execution_count": null,
   "metadata": {
    "colab": {},
    "colab_type": "code",
    "id": "BcGBjLzTXr_1"
   },
   "outputs": [],
   "source": [
    "b"
   ]
  },
  {
   "cell_type": "markdown",
   "metadata": {
    "colab_type": "text",
    "id": "5LOewpaMX13t"
   },
   "source": [
    "É preciso tomar cuidado quando for criar tuplas de apenas um elemento:"
   ]
  },
  {
   "cell_type": "code",
   "execution_count": null,
   "metadata": {
    "colab": {},
    "colab_type": "code",
    "id": "vnFg8ZkbX3iu"
   },
   "outputs": [],
   "source": [
    "a = 10\n",
    "type(a)"
   ]
  },
  {
   "cell_type": "code",
   "execution_count": null,
   "metadata": {
    "colab": {},
    "colab_type": "code",
    "id": "ZgIdDzHQX9dz"
   },
   "outputs": [],
   "source": [
    "a = (10) \n",
    "type(a)"
   ]
  },
  {
   "cell_type": "markdown",
   "metadata": {
    "colab_type": "text",
    "id": "ZaZ1yqphYOrx"
   },
   "source": [
    "É preciso acrescentar uma vírgula para o interpretador saber que o objeto que está sendo criado é uma tupla. "
   ]
  },
  {
   "cell_type": "code",
   "execution_count": null,
   "metadata": {
    "colab": {},
    "colab_type": "code",
    "id": "3y_ag7Q1YP3J"
   },
   "outputs": [],
   "source": [
    "a = 10,\n",
    "type(a)"
   ]
  },
  {
   "cell_type": "code",
   "execution_count": null,
   "metadata": {
    "colab": {},
    "colab_type": "code",
    "id": "MV0qCEuLYUxr"
   },
   "outputs": [],
   "source": [
    "a = (10,)\n",
    "type(a)"
   ]
  },
  {
   "cell_type": "markdown",
   "metadata": {
    "colab_type": "text",
    "id": "ns1x5zx-YiN0"
   },
   "source": [
    "As tuplas podem ser criadas a partir de listas, utilizando-se da função **tuple**:\n"
   ]
  },
  {
   "cell_type": "code",
   "execution_count": null,
   "metadata": {
    "colab": {},
    "colab_type": "code",
    "id": "QuapOjxAYu6d"
   },
   "outputs": [],
   "source": [
    "lista = [1, 2, 3]\n",
    "tupla = tuple(lista)\n",
    "tupla"
   ]
  },
  {
   "cell_type": "markdown",
   "metadata": {
    "colab_type": "text",
    "id": "xnLOsLDNZCy3"
   },
   "source": [
    "# Dicionário\n",
    "\n",
    "* Dicionários (dict) consistem em uma estrutura de dados similar a lista, msa com propriedades de acesso diferentes. \n",
    "\n",
    "* Um dicionário é composto por um conjunto de chaves e valores. O dicionário em si consiste em relacionar uma chave a um valor específico. \n",
    "\n",
    "* Em Python, dicionários são criados com chaves ( { } ). \n",
    "\n",
    "* Cada elemento no dicionário é a combinação de chave/valor\n",
    "\n",
    "![texto alternativo](https://i.imgur.com/hVcn3WC.png)\n",
    "\n",
    "* Um dicionário é acessado pela suas chaves."
   ]
  },
  {
   "cell_type": "code",
   "execution_count": null,
   "metadata": {
    "colab": {},
    "colab_type": "code",
    "id": "_7ke_QpnZwjd"
   },
   "outputs": [],
   "source": [
    "tabela = {\"alface\": 0.45, \"batata\": 1.2, \"tomate\": 2.3, \"feijão\": 1.5}\n",
    "tabela[\"alface\"]"
   ]
  },
  {
   "cell_type": "code",
   "execution_count": null,
   "metadata": {
    "colab": {},
    "colab_type": "code",
    "id": "ntmh2YcmaCff"
   },
   "outputs": [],
   "source": [
    "tabela[\"alface\"] = 1.2\n",
    "tabela[\"alface\"]"
   ]
  },
  {
   "cell_type": "code",
   "execution_count": null,
   "metadata": {
    "colab": {},
    "colab_type": "code",
    "id": "92BDQ4ztaGZt"
   },
   "outputs": [],
   "source": [
    "tabela[\"cebola\"] = 3.2\n",
    "tabela"
   ]
  },
  {
   "cell_type": "code",
   "execution_count": null,
   "metadata": {
    "colab": {},
    "colab_type": "code",
    "id": "9veZwBsXaJ4-"
   },
   "outputs": [],
   "source": [
    "tabela"
   ]
  },
  {
   "cell_type": "code",
   "execution_count": null,
   "metadata": {
    "colab": {},
    "colab_type": "code",
    "id": "qgxFQnJ2ad6b"
   },
   "outputs": [],
   "source": [
    "tabela[\"manga\"]"
   ]
  },
  {
   "cell_type": "code",
   "execution_count": null,
   "metadata": {
    "colab": {},
    "colab_type": "code",
    "id": "8Jf3E33Xafou"
   },
   "outputs": [],
   "source": [
    "\"manga\" in tabela"
   ]
  },
  {
   "cell_type": "code",
   "execution_count": null,
   "metadata": {
    "colab": {},
    "colab_type": "code",
    "id": "thX5mNEvaiZs"
   },
   "outputs": [],
   "source": [
    "\"cebola\" in tabela"
   ]
  },
  {
   "cell_type": "code",
   "execution_count": null,
   "metadata": {
    "colab": {},
    "colab_type": "code",
    "id": "cMwC9GfYam55"
   },
   "outputs": [],
   "source": [
    "tabela.keys()"
   ]
  },
  {
   "cell_type": "code",
   "execution_count": null,
   "metadata": {
    "colab": {},
    "colab_type": "code",
    "id": "2R-cpMF3bO66"
   },
   "outputs": [],
   "source": [
    "tabela.values()"
   ]
  },
  {
   "cell_type": "code",
   "execution_count": null,
   "metadata": {
    "colab": {},
    "colab_type": "code",
    "id": "i8z421RsbQwy"
   },
   "outputs": [],
   "source": [
    "len(tabela)"
   ]
  },
  {
   "cell_type": "code",
   "execution_count": null,
   "metadata": {
    "colab": {},
    "colab_type": "code",
    "id": "_R8i2-INbTMJ"
   },
   "outputs": [],
   "source": [
    "del(tabela[\"alface\"])\n",
    "tabela"
   ]
  },
  {
   "cell_type": "markdown",
   "metadata": {
    "colab_type": "text",
    "id": "6-3EkXwSblxx"
   },
   "source": [
    "Keys e values são dois tipos de métodos do dicionário. Existem outros que podem ser utilizados na manipulação desse tipo de dados.  \n",
    "\n",
    "## Outros métodos do tipo dicionário: \n",
    "\n",
    "* clear(): Remove todos os itens\n",
    "* copy(): Realiza a cópia do dicionário\n",
    "* fromkeys(): Cria um dicionário com a sequência informada\n",
    "* get(): Retorna o valor da chave informada\n",
    "* items(): Retorna uma tupla no formato (chave, valor) para cada item do dicionário\n",
    "* update(): Atualizar um item do dicionário\n",
    "\n",
    "## Leitura Recomendada\n",
    "\n",
    "https://docs.python.org/3/library/stdtypes.html#dict\n",
    "\n",
    "\n"
   ]
  }
 ],
 "metadata": {
  "colab": {
   "name": "06_3_4_Tuplas_e_Dicionários.ipynb",
   "provenance": []
  },
  "kernelspec": {
   "display_name": "Python 3 (ipykernel)",
   "language": "python",
   "name": "python3"
  },
  "language_info": {
   "codemirror_mode": {
    "name": "ipython",
    "version": 3
   },
   "file_extension": ".py",
   "mimetype": "text/x-python",
   "name": "python",
   "nbconvert_exporter": "python",
   "pygments_lexer": "ipython3",
   "version": "3.10.6"
  }
 },
 "nbformat": 4,
 "nbformat_minor": 1
}
